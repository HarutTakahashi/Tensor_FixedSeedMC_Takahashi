{
 "cells": [
  {
   "cell_type": "code",
   "execution_count": 1,
   "metadata": {},
   "outputs": [],
   "source": [
    "using Random\n",
    "#using Printf\n",
    "using LinearAlgebra\n",
    "using Statistics"
   ]
  },
  {
   "cell_type": "code",
   "execution_count": 2,
   "metadata": {},
   "outputs": [
    {
     "data": {
      "text/plain": [
       "asian_barrier_option (generic function with 1 method)"
      ]
     },
     "metadata": {},
     "output_type": "display_data"
    }
   ],
   "source": [
    "function asian_barrier_option(T, K, B, S0, sigma, mu, r, d_normals, N_STEPS, N_PATHS)\n",
    "    tmp1 = mu * T / N_STEPS\n",
    "    tmp2 = exp(-r * T)\n",
    "    tmp3 = sqrt(T / N_STEPS)\n",
    "    d_s = zeros(Float64, N_PATHS)\n",
    "    \n",
    "    for i in 1:N_PATHS\n",
    "        s_curr = S0\n",
    "        running_average = 0.0\n",
    "        \n",
    "        for n in 1:N_STEPS\n",
    "            # Update the current price\n",
    "            s_curr += tmp1 * s_curr + sigma * s_curr * tmp3 * d_normals[i + (n - 1) * N_PATHS]\n",
    "            \n",
    "            # Update the running average\n",
    "            running_average += (s_curr - running_average) / n\n",
    "            \n",
    "            # Check the barrier\n",
    "            if running_average <= B\n",
    "                break\n",
    "            end\n",
    "        end\n",
    "        \n",
    "        # Calculate payoff\n",
    "        payoff = max(running_average - K, 0)\n",
    "        \n",
    "        # Discounted payoff\n",
    "        d_s[i] = tmp2 * payoff\n",
    "    end\n",
    "\n",
    "    return mean(d_s), 1.96 * std(d_s)/sqrt(N_PATHS)\n",
    "end\n"
   ]
  },
  {
   "cell_type": "code",
   "execution_count": 3,
   "metadata": {},
   "outputs": [
    {
     "data": {
      "text/plain": [
       "(18.688704378890158, 0.04161837900794215)"
      ]
     },
     "metadata": {},
     "output_type": "display_data"
    }
   ],
   "source": [
    "# Example usage\n",
    "N_STEPS = 365\n",
    "N_PATHS = 1000000\n",
    "T = 1.0\n",
    "K = 110.0\n",
    "B = 100.0\n",
    "S0 = 120.0\n",
    "sigma = 0.35\n",
    "mu = 0.1\n",
    "r = 0.05\n",
    "d_normals = randn(Float64, N_STEPS * N_PATHS)  # Standard normal random numbers\n",
    "\n",
    "mean_ds, err = asian_barrier_option(T, K, B, S0, sigma, mu, r, d_normals, N_STEPS, N_PATHS)"
   ]
  },
  {
   "cell_type": "code",
   "execution_count": 5,
   "metadata": {},
   "outputs": [
    {
     "name": "stdout",
     "output_type": "stream",
     "text": [
      "  1.871627 seconds (4 allocations: 7.629 MiB)\n"
     ]
    },
    {
     "data": {
      "text/plain": [
       "(18.688704378890158, 0.04161837900794215)"
      ]
     },
     "metadata": {},
     "output_type": "display_data"
    }
   ],
   "source": [
    "@time asian_barrier_option(T, K, B, S0, sigma, mu, r, d_normals, N_STEPS, N_PATHS)"
   ]
  },
  {
   "cell_type": "code",
   "execution_count": 22,
   "metadata": {},
   "outputs": [
    {
     "data": {
      "text/plain": [
       "(18.746854091771066, 0.04169004063779831)"
      ]
     },
     "metadata": {},
     "output_type": "display_data"
    }
   ],
   "source": [
    "asian_barrier_option(T, K, B, S0, sigma, mu, r, d_normals, N_STEPS, N_PATHS)"
   ]
  },
  {
   "cell_type": "code",
   "execution_count": null,
   "metadata": {},
   "outputs": [],
   "source": [
    "# 株価とインプライド・ボラティリティの範囲ごとにアジアンバリアオプション価格の行列を計算する関数\n",
    "function calculate_asian_barrier_option_matrix(K, B, T, mu, r, N_STEPS, N_PATHS)\n",
    "    S0_values = range(90, stop=120, length=101)[1:end-1]\n",
    "    implied_vol_values = range(0.15, stop=0.25, length=101)[1:end-1]\n",
    "    price_matrix = Array{Float64}(undef, length(S0_values), length(implied_vol_values))\n",
    "    err = Array{Float64}(undef, length(S0_values), length(implied_vol_values))\n",
    "    d_normals = randn(Float64, N_STEPS * N_PATHS)  # Standard normal random numbers\n",
    "    for i in 1:length(S0_values)\n",
    "        for j in 1:length(implied_vol_values)\n",
    "            S0 = S0_values[i]\n",
    "            sigma = implied_vol_values[j]\n",
    "            #price_matrix[i, j] = asian_barrier_option(S0, K, B, T, sigma, mu, r, N_STEPS, N_PATHS)\n",
    "            price_matrix[i, j], err[i, j] = asian_barrier_option(T, K, B, S0, sigma, mu, r, d_normals, N_STEPS, N_PATHS)\n",
    "        end\n",
    "    end\n",
    "\n",
    "    return price_matrix, err\n",
    "end\n",
    "\n",
    "# 例としての利用\n",
    "K = 110                # 行使価格\n",
    "B = 100                 # バリア価格\n",
    "T = 1.0                # 満期までの期間（1年）\n",
    "mu = 0.1              # ドリフト（株価の期待成長率）\n",
    "r = 0.05               # 無リスク金利\n",
    "N_STEPS = 365          # タイムステップ数\n",
    "N_PATHS = 1000000         # モンテカルロパス数\n",
    "price_matrix, err = calculate_asian_barrier_option_matrix(K, B, T, mu, r, N_STEPS, N_PATHS)\n",
    "\n",
    "# 結果の行列とパラメータの範囲を表示\n",
    "println(\"アジアンバリアオプション価格の行列:\")\n",
    "display(price_matrix)\n",
    "#println(\"株価 S0 の範囲: \", S0_values)\n",
    "#println(\"インプライド・ボラティリティの範囲: \", implied_vol_values)"
   ]
  },
  {
   "cell_type": "code",
   "execution_count": null,
   "metadata": {},
   "outputs": [],
   "source": [
    "using JLD2\n",
    "JLD2.@save \"price_matrix_asianbarrier_N_PATHS$N_PATHS.jld2\" price_matrix"
   ]
  },
  {
   "cell_type": "code",
   "execution_count": 17,
   "metadata": {},
   "outputs": [],
   "source": [
    "mean(vec(err))"
   ]
  }
 ],
 "metadata": {
  "kernelspec": {
   "display_name": "Julia 1.11.1",
   "language": "julia",
   "name": "julia-1.11"
  },
  "language_info": {
   "file_extension": ".jl",
   "mimetype": "application/julia",
   "name": "julia",
   "version": "1.11.1"
  }
 },
 "nbformat": 4,
 "nbformat_minor": 2
}
