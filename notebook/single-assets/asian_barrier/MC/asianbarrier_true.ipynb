{
 "cells": [
  {
   "cell_type": "code",
   "execution_count": 10,
   "metadata": {},
   "outputs": [],
   "source": [
    "using Random\n",
    "#using Printf\n",
    "using LinearAlgebra\n",
    "using Statistics"
   ]
  },
  {
   "cell_type": "code",
   "execution_count": 11,
   "metadata": {},
   "outputs": [
    {
     "data": {
      "text/plain": [
       "asian_barrier_option (generic function with 1 method)"
      ]
     },
     "metadata": {},
     "output_type": "display_data"
    }
   ],
   "source": [
    "function asian_barrier_option(T, K, B, S0, sigma, mu, r, d_normals, N_STEPS, N_PATHS)\n",
    "    tmp1 = mu * T / N_STEPS\n",
    "    tmp2 = exp(-r * T)\n",
    "    tmp3 = sqrt(T / N_STEPS)\n",
    "    d_s = zeros(Float64, N_PATHS)\n",
    "    \n",
    "    for i in 1:N_PATHS\n",
    "        s_curr = S0\n",
    "        running_average = 0.0\n",
    "        \n",
    "        for n in 1:N_STEPS\n",
    "            # Update the current price\n",
    "            s_curr += tmp1 * s_curr + sigma * s_curr * tmp3 * d_normals[i + (n - 1) * N_PATHS]\n",
    "            \n",
    "            # Update the running average\n",
    "            running_average += (s_curr - running_average) / n\n",
    "            \n",
    "            # Check the barrier\n",
    "            if running_average <= B\n",
    "                break\n",
    "            end\n",
    "        end\n",
    "        \n",
    "        # Calculate payoff\n",
    "        payoff = max(running_average - K, 0)\n",
    "        \n",
    "        # Discounted payoff\n",
    "        d_s[i] = tmp2 * payoff\n",
    "    end\n",
    "\n",
    "    return mean(d_s), 1.96 * std(d_s)/sqrt(N_PATHS)\n",
    "end\n"
   ]
  },
  {
   "cell_type": "code",
   "execution_count": 12,
   "metadata": {},
   "outputs": [
    {
     "data": {
      "text/plain": [
       "(18.847775288472242, 0.13223937545932493)"
      ]
     },
     "metadata": {},
     "output_type": "display_data"
    }
   ],
   "source": [
    "# Example usage\n",
    "N_STEPS = 365\n",
    "N_PATHS = 100000\n",
    "T = 1.0\n",
    "K = 110.0\n",
    "B = 100.0\n",
    "S0 = 120.0\n",
    "sigma = 0.35\n",
    "mu = 0.1\n",
    "r = 0.05\n",
    "d_normals = randn(Float64, N_STEPS * N_PATHS)  # Standard normal random numbers\n",
    "\n",
    "mean_ds, err = asian_barrier_option(T, K, B, S0, sigma, mu, r, d_normals, N_STEPS, N_PATHS)"
   ]
  },
  {
   "cell_type": "code",
   "execution_count": 13,
   "metadata": {},
   "outputs": [
    {
     "name": "stdout",
     "output_type": "stream",
     "text": [
      "  0.187621 seconds (4 allocations: 781.344 KiB)\n"
     ]
    },
    {
     "data": {
      "text/plain": [
       "(18.847775288472242, 0.13223937545932493)"
      ]
     },
     "metadata": {},
     "output_type": "display_data"
    }
   ],
   "source": [
    "@time asian_barrier_option(T, K, B, S0, sigma, mu, r, d_normals, N_STEPS, N_PATHS)"
   ]
  },
  {
   "cell_type": "code",
   "execution_count": 14,
   "metadata": {},
   "outputs": [
    {
     "data": {
      "text/plain": [
       "(18.847775288472242, 0.13223937545932493)"
      ]
     },
     "metadata": {},
     "output_type": "display_data"
    }
   ],
   "source": [
    "asian_barrier_option(T, K, B, S0, sigma, mu, r, d_normals, N_STEPS, N_PATHS)"
   ]
  },
  {
   "cell_type": "code",
   "execution_count": 15,
   "metadata": {},
   "outputs": [
    {
     "ename": "InterruptException",
     "evalue": "InterruptException:",
     "output_type": "error",
     "traceback": [
      "InterruptException:\n",
      "\n",
      "Stacktrace:\n",
      "  [1] _mean(f::typeof(identity), A::Vector{Float64}, dims::Colon)\n",
      "    @ Statistics ~/.julia/packages/Statistics/gbcbG/src/Statistics.jl:183\n",
      "  [2] mean\n",
      "    @ ~/.julia/packages/Statistics/gbcbG/src/Statistics.jl:178 [inlined]\n",
      "  [3] asian_barrier_option(T::Float64, K::Int64, B::Int64, S0::Float64, sigma::Float64, mu::Float64, r::Float64, d_normals::Vector{Float64}, N_STEPS::Int64, N_PATHS::Int64)\n",
      "    @ Main ~/Documents/Research/post-doc/Tensor_FixedSeedMC/notebook/single-assets/asian_barrier/MC/jl_notebook_cell_df34fa98e69747e1a8f8a730347b8e2f_W1sZmlsZQ==.jl:31\n",
      "  [4] calculate_asian_barrier_option_matrix(K::Int64, B::Int64, T::Float64, mu::Float64, r::Float64, N_STEPS::Int64, N_PATHS::Int64)\n",
      "    @ Main ~/Documents/Research/post-doc/Tensor_FixedSeedMC/notebook/single-assets/asian_barrier/MC/jl_notebook_cell_df34fa98e69747e1a8f8a730347b8e2f_W5sZmlsZQ==.jl:13\n",
      "  [5] eval\n",
      "    @ ./boot.jl:430 [inlined]\n",
      "  [6] include_string(mapexpr::typeof(REPL.softscope), mod::Module, code::String, filename::String)\n",
      "    @ Base ./loading.jl:2643\n",
      "  [7] #invokelatest#2\n",
      "    @ ./essentials.jl:1055 [inlined]\n",
      "  [8] invokelatest\n",
      "    @ ./essentials.jl:1052 [inlined]\n",
      "  [9] (::VSCodeServer.var\"#217#218\"{VSCodeServer.NotebookRunCellArguments, String})()\n",
      "    @ VSCodeServer ~/.vscode/extensions/julialang.language-julia-1.127.2/scripts/packages/VSCodeServer/src/serve_notebook.jl:24\n",
      " [10] withpath(f::VSCodeServer.var\"#217#218\"{VSCodeServer.NotebookRunCellArguments, String}, path::String)\n",
      "    @ VSCodeServer ~/.vscode/extensions/julialang.language-julia-1.127.2/scripts/packages/VSCodeServer/src/repl.jl:276\n",
      " [11] notebook_runcell_request(conn::VSCodeServer.JSONRPC.JSONRPCEndpoint{Base.PipeEndpoint, Base.PipeEndpoint}, params::VSCodeServer.NotebookRunCellArguments)\n",
      "    @ VSCodeServer ~/.vscode/extensions/julialang.language-julia-1.127.2/scripts/packages/VSCodeServer/src/serve_notebook.jl:13\n",
      " [12] dispatch_msg(x::VSCodeServer.JSONRPC.JSONRPCEndpoint{Base.PipeEndpoint, Base.PipeEndpoint}, dispatcher::VSCodeServer.JSONRPC.MsgDispatcher, msg::Dict{String, Any})\n",
      "    @ VSCodeServer.JSONRPC ~/.vscode/extensions/julialang.language-julia-1.127.2/scripts/packages/JSONRPC/src/typed.jl:67\n",
      " [13] serve_notebook(pipename::String, debugger_pipename::String, outputchannel_logger::Base.CoreLogging.SimpleLogger; error_handler::var\"#5#10\"{String})\n",
      "    @ VSCodeServer ~/.vscode/extensions/julialang.language-julia-1.127.2/scripts/packages/VSCodeServer/src/serve_notebook.jl:147\n",
      " [14] top-level scope\n",
      "    @ ~/.vscode/extensions/julialang.language-julia-1.127.2/scripts/notebook/notebook.jl:35"
     ]
    }
   ],
   "source": [
    "# 株価とインプライド・ボラティリティの範囲ごとにアジアンバリアオプション価格の行列を計算する関数\n",
    "function calculate_asian_barrier_option_matrix(K, B, T, mu, r, N_STEPS, N_PATHS)\n",
    "    S0_values = range(90, stop=120, length=101)[1:end-1]\n",
    "    implied_vol_values = range(0.15, stop=0.25, length=101)[1:end-1]\n",
    "    price_matrix = Array{Float64}(undef, length(S0_values), length(implied_vol_values))\n",
    "    err = Array{Float64}(undef, length(S0_values), length(implied_vol_values))\n",
    "    d_normals = randn(Float64, N_STEPS * N_PATHS)  # Standard normal random numbers\n",
    "    for i in 1:length(S0_values)\n",
    "        for j in 1:length(implied_vol_values)\n",
    "            S0 = S0_values[i]\n",
    "            sigma = implied_vol_values[j]\n",
    "            #price_matrix[i, j] = asian_barrier_option(S0, K, B, T, sigma, mu, r, N_STEPS, N_PATHS)\n",
    "            price_matrix[i, j], err[i, j] = asian_barrier_option(T, K, B, S0, sigma, mu, r, d_normals, N_STEPS, N_PATHS)\n",
    "        end\n",
    "    end\n",
    "\n",
    "    return price_matrix, err\n",
    "end\n",
    "\n",
    "# 例としての利用\n",
    "K = 110                # 行使価格\n",
    "B = 100                 # バリア価格\n",
    "T = 1.0                # 満期までの期間（1年）\n",
    "mu = 0.1              # ドリフト（株価の期待成長率）\n",
    "r = 0.05               # 無リスク金利\n",
    "N_STEPS = 365          # タイムステップ数\n",
    "N_PATHS = 100000         # モンテカルロパス数\n",
    "price_matrix, err = calculate_asian_barrier_option_matrix(K, B, T, mu, r, N_STEPS, N_PATHS)\n",
    "\n",
    "# 結果の行列とパラメータの範囲を表示\n",
    "println(\"アジアンバリアオプション価格の行列:\")\n",
    "display(price_matrix)\n",
    "#println(\"株価 S0 の範囲: \", S0_values)\n",
    "#println(\"インプライド・ボラティリティの範囲: \", implied_vol_values)"
   ]
  },
  {
   "cell_type": "code",
   "execution_count": 16,
   "metadata": {},
   "outputs": [
    {
     "ename": "UndefVarError",
     "evalue": "UndefVarError: `price_matrix` not defined in `Main`\nSuggestion: check for spelling errors or missing imports.",
     "output_type": "error",
     "traceback": [
      "UndefVarError: `price_matrix` not defined in `Main`\n",
      "Suggestion: check for spelling errors or missing imports.\n",
      "\n",
      "Stacktrace:\n",
      " [1] macro expansion\n",
      "   @ ~/.julia/packages/JLD2/NKGUi/src/loadsave.jl:72 [inlined]\n",
      " [2] top-level scope\n",
      "   @ ~/Documents/Research/post-doc/Tensor_FixedSeedMC/notebook/single-assets/asian_barrier/MC/jl_notebook_cell_df34fa98e69747e1a8f8a730347b8e2f_W6sZmlsZQ==.jl:2"
     ]
    }
   ],
   "source": [
    "using JLD2\n",
    "JLD2.@save \"price_matrix_asianbarrier_N_PATHS$N_PATHS.jld2\" price_matrix"
   ]
  },
  {
   "cell_type": "code",
   "execution_count": 17,
   "metadata": {},
   "outputs": [
    {
     "ename": "MethodError",
     "evalue": "MethodError: no method matching vec(::Float64)\nThe function `vec` exists, but no method is defined for this combination of argument types.\n\nClosest candidates are:\n  vec(!Matched::Adjoint{<:Real, <:AbstractVector})\n   @ LinearAlgebra ~/.julia/juliaup/julia-1.11.1+0.aarch64.apple.darwin14/share/julia/stdlib/v1.11/LinearAlgebra/src/adjtrans.jl:374\n  vec(!Matched::Transpose{<:Number, <:AbstractVector})\n   @ LinearAlgebra ~/.julia/juliaup/julia-1.11.1+0.aarch64.apple.darwin14/share/julia/stdlib/v1.11/LinearAlgebra/src/adjtrans.jl:373\n  vec(!Matched::AbstractVector)\n   @ Base abstractarraymath.jl:42\n  ...\n",
     "output_type": "error",
     "traceback": [
      "MethodError: no method matching vec(::Float64)\n",
      "The function `vec` exists, but no method is defined for this combination of argument types.\n",
      "\n",
      "Closest candidates are:\n",
      "  vec(!Matched::Adjoint{<:Real, <:AbstractVector})\n",
      "   @ LinearAlgebra ~/.julia/juliaup/julia-1.11.1+0.aarch64.apple.darwin14/share/julia/stdlib/v1.11/LinearAlgebra/src/adjtrans.jl:374\n",
      "  vec(!Matched::Transpose{<:Number, <:AbstractVector})\n",
      "   @ LinearAlgebra ~/.julia/juliaup/julia-1.11.1+0.aarch64.apple.darwin14/share/julia/stdlib/v1.11/LinearAlgebra/src/adjtrans.jl:373\n",
      "  vec(!Matched::AbstractVector)\n",
      "   @ Base abstractarraymath.jl:42\n",
      "  ...\n",
      "\n",
      "\n",
      "Stacktrace:\n",
      " [1] top-level scope\n",
      "   @ ~/Documents/Research/post-doc/Tensor_FixedSeedMC/notebook/single-assets/asian_barrier/MC/jl_notebook_cell_df34fa98e69747e1a8f8a730347b8e2f_X10sZmlsZQ==.jl:1"
     ]
    }
   ],
   "source": [
    "mean(vec(err))"
   ]
  }
 ],
 "metadata": {
  "kernelspec": {
   "display_name": "Julia 1.11.1",
   "language": "julia",
   "name": "julia-1.11"
  },
  "language_info": {
   "file_extension": ".jl",
   "mimetype": "application/julia",
   "name": "julia",
   "version": "1.11.1"
  }
 },
 "nbformat": 4,
 "nbformat_minor": 2
}
