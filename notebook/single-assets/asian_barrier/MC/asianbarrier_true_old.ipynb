{
 "cells": [
  {
   "cell_type": "code",
   "execution_count": 1,
   "metadata": {},
   "outputs": [],
   "source": [
    "using Random\n",
    "#using Printf\n",
    "using LinearAlgebra\n",
    "using Statistics\n",
    "import Tensor_FixedSeedMC as TTMC"
   ]
  },
  {
   "cell_type": "code",
   "execution_count": 2,
   "metadata": {},
   "outputs": [
    {
     "data": {
      "text/plain": [
       "asian_barrier_option (generic function with 1 method)"
      ]
     },
     "metadata": {},
     "output_type": "display_data"
    }
   ],
   "source": [
    "function asian_barrier_option(T, K, B, S0, sigma, mu, r, d_normals, N_STEPS, N_PATHS)\n",
    "    tmp1 = mu * T / N_STEPS\n",
    "    tmp2 = exp(-r * T)\n",
    "    tmp3 = sqrt(T / N_STEPS)\n",
    "    d_s = zeros(Float64, N_PATHS)\n",
    "    \n",
    "    for i in 1:N_PATHS\n",
    "        s_curr = S0\n",
    "        running_average = 0.0\n",
    "        \n",
    "        for n in 1:N_STEPS\n",
    "            # Update the current price\n",
    "            s_curr += tmp1 * s_curr + sigma * s_curr * tmp3 * d_normals[i + (n - 1) * N_PATHS]\n",
    "            \n",
    "            # Update the running average\n",
    "            running_average += (s_curr - running_average) / n\n",
    "            \n",
    "            # Check the barrier\n",
    "            if running_average <= B\n",
    "                break\n",
    "            end\n",
    "        end\n",
    "        \n",
    "        # Calculate payoff\n",
    "        payoff = max(running_average - K, 0)\n",
    "        \n",
    "        # Discounted payoff\n",
    "        d_s[i] = tmp2 * payoff\n",
    "    end\n",
    "\n",
    "    return mean(d_s), 1.96 * std(d_s)/sqrt(N_PATHS)\n",
    "end\n"
   ]
  },
  {
   "cell_type": "code",
   "execution_count": 3,
   "metadata": {},
   "outputs": [
    {
     "data": {
      "text/plain": [
       "(18.7844348458054, 0.13263036072191842)"
      ]
     },
     "metadata": {},
     "output_type": "display_data"
    }
   ],
   "source": [
    "# Example usage\n",
    "N_STEPS = 365\n",
    "N_PATHS = 100000\n",
    "T = 1.0\n",
    "K = 110.0\n",
    "B = 100.0\n",
    "S0 = 120.0\n",
    "sigma = 0.35\n",
    "mu = 0.1\n",
    "r = 0.05\n",
    "Random.seed!(1234)\n",
    "S0_range = collect(90:0.3:119.7) # 200\n",
    "sigma_range = collect(0.15:0.001:0.249) #200\n",
    "# オプション価格を格納する行列\n",
    "option_price = zeros(length(sigma_range), length(S0_range))\n",
    "d_normals = randn(Float64, N_STEPS * N_PATHS)  # Standard normal random numbers\n",
    "\n",
    "mean_ds, err = asian_barrier_option(T, K, B, S0, sigma, mu, r, d_normals, N_STEPS, N_PATHS)"
   ]
  },
  {
   "cell_type": "code",
   "execution_count": 4,
   "metadata": {},
   "outputs": [
    {
     "name": "stdout",
     "output_type": "stream",
     "text": [
      "  0.185858 seconds (4 allocations: 781.344 KiB)\n"
     ]
    },
    {
     "data": {
      "text/plain": [
       "(18.7844348458054, 0.13263036072191842)"
      ]
     },
     "metadata": {},
     "output_type": "display_data"
    }
   ],
   "source": [
    "@time asian_barrier_option(T, K, B, S0, sigma, mu, r, d_normals, N_STEPS, N_PATHS)"
   ]
  },
  {
   "cell_type": "code",
   "execution_count": 5,
   "metadata": {},
   "outputs": [
    {
     "data": {
      "text/plain": [
       "(18.7844348458054, 0.13263036072191842)"
      ]
     },
     "metadata": {},
     "output_type": "display_data"
    }
   ],
   "source": [
    "asian_barrier_option(T, K, B, S0, sigma, mu, r, d_normals, N_STEPS, N_PATHS)"
   ]
  },
  {
   "cell_type": "code",
   "execution_count": 6,
   "metadata": {},
   "outputs": [],
   "source": [
    "random_combinations = TTMC.generate_random_combinations(length(S0_range), 2, 100);"
   ]
  },
  {
   "cell_type": "code",
   "execution_count": 7,
   "metadata": {},
   "outputs": [
    {
     "ename": "UndefVarError",
     "evalue": "UndefVarError: `M` not defined in `Main`\nSuggestion: check for spelling errors or missing imports.",
     "output_type": "error",
     "traceback": [
      "UndefVarError: `M` not defined in `Main`\n",
      "Suggestion: check for spelling errors or missing imports.\n",
      "\n",
      "Stacktrace:\n",
      " [1] top-level scope\n",
      "   @ ~/Documents/Research/post-doc/Tensor_FixedSeedMC/notebook/single-assets/asian_barrier/MC/jl_notebook_cell_df34fa98e69747e1a8f8a730347b8e2f_W6sZmlsZQ==.jl:6"
     ]
    }
   ],
   "source": [
    "price = []\n",
    "errs = []\n",
    "for i in random_combinations\n",
    "    S0 = S0_range[i[1]]\n",
    "    sigma = sigma_range[i[2]]\n",
    "    option_price, err = asian_barrier_option(K, S0, r, sigma, T, M=M, I=I)\n",
    "    push!(price, option_price)\n",
    "    push!(errs, err)\n",
    "end\n",
    "\n",
    "res = [price, errs]\n"
   ]
  },
  {
   "cell_type": "code",
   "execution_count": 8,
   "metadata": {},
   "outputs": [
    {
     "ename": "UndefVarError",
     "evalue": "UndefVarError: `res` not defined in `Main`\nSuggestion: check for spelling errors or missing imports.",
     "output_type": "error",
     "traceback": [
      "UndefVarError: `res` not defined in `Main`\n",
      "Suggestion: check for spelling errors or missing imports.\n",
      "\n",
      "Stacktrace:\n",
      " [1] macro expansion\n",
      "   @ ~/.julia/packages/JLD2/NKGUi/src/loadsave.jl:72 [inlined]\n",
      " [2] top-level scope\n",
      "   @ ~/Documents/Research/post-doc/Tensor_FixedSeedMC/notebook/single-assets/asian_barrier/MC/jl_notebook_cell_df34fa98e69747e1a8f8a730347b8e2f_X10sZmlsZQ==.jl:2"
     ]
    }
   ],
   "source": [
    "using JLD2\n",
    "JLD2.@save \"price_matrix_asianbarrier_N_PATHS$N_PATHS.jld2\" res"
   ]
  },
  {
   "cell_type": "code",
   "execution_count": 9,
   "metadata": {},
   "outputs": [],
   "source": []
  }
 ],
 "metadata": {
  "kernelspec": {
   "display_name": "Julia 1.11.1",
   "language": "julia",
   "name": "julia-1.11"
  },
  "language_info": {
   "file_extension": ".jl",
   "mimetype": "application/julia",
   "name": "julia",
   "version": "1.11.1"
  }
 },
 "nbformat": 4,
 "nbformat_minor": 2
}
