{
 "cells": [
  {
   "cell_type": "code",
   "execution_count": 53,
   "metadata": {},
   "outputs": [],
   "source": [
    "using Revise\n",
    "using Random\n",
    "using Printf\n",
    "using LinearAlgebra\n",
    "using Statistics\n",
    "import Tensor_FixedSeedMC as TCIMC"
   ]
  },
  {
   "cell_type": "code",
   "execution_count": 54,
   "metadata": {},
   "outputs": [
    {
     "data": {
      "text/plain": [
       "asian_barrier_option (generic function with 1 method)"
      ]
     },
     "metadata": {},
     "output_type": "display_data"
    }
   ],
   "source": [
    "function asian_barrier_option(T, K, B, S0, sigma, mu, r, d_normals, N_STEPS, N_PATHS)\n",
    "    tmp1 = mu * T / N_STEPS\n",
    "    tmp2 = exp(-r * T)\n",
    "    tmp3 = sqrt(T / N_STEPS)\n",
    "    d_s = zeros(Float64, N_PATHS)\n",
    "    \n",
    "    for i in 1:N_PATHS\n",
    "        s_curr = S0\n",
    "        running_average = 0.0\n",
    "        \n",
    "        for n in 1:N_STEPS\n",
    "            # Update the current price\n",
    "            s_curr += tmp1 * s_curr + sigma * s_curr * tmp3 * d_normals[i + (n - 1) * N_PATHS]\n",
    "            \n",
    "            # Update the running average\n",
    "            running_average += (s_curr - running_average) / n\n",
    "            \n",
    "            # Check the barrier\n",
    "            if running_average <= B\n",
    "                break\n",
    "            end\n",
    "        end\n",
    "        \n",
    "        # Calculate payoff\n",
    "        payoff = max(running_average - K, 0)\n",
    "        \n",
    "        # Discounted payoff\n",
    "        d_s[i] = tmp2 * payoff\n",
    "    end\n",
    "    mean_ = mean(d_s)\n",
    "    #abs_ = std(d_s)\n",
    "    standard_err =  std(d_s) / sqrt(N_PATHS)\n",
    "    # \n",
    "    return mean(d_s), standard_err\n",
    "end\n"
   ]
  },
  {
   "cell_type": "code",
   "execution_count": 55,
   "metadata": {},
   "outputs": [
    {
     "name": "stdout",
     "output_type": "stream",
     "text": [
      "Sample of computed option prices: 18.7193\n",
      "Sample of computed option errors: 0.0235\n"
     ]
    }
   ],
   "source": [
    "# Example usage\n",
    "N_STEPS = 365\n",
    "#N_PATHS = 50000000\n",
    "N_PATHS = 819200\n",
    "T = 1.0\n",
    "K = 110.0\n",
    "B = 100.0\n",
    "S0 = 120.0\n",
    "sigma = 0.35\n",
    "mu = 0.1\n",
    "r = 0.05\n",
    "d_normals = randn(Float64, N_STEPS * N_PATHS)  # Standard normal random numbers\n",
    "\n",
    "mean_ds, err_ds = asian_barrier_option(T, K, B, S0, sigma, mu, r, d_normals, N_STEPS, N_PATHS)\n",
    "\n",
    "# Display a sample of results\n",
    "@printf(\"Sample of computed option prices: %0.4f\\n\", mean_ds)\n",
    "@printf(\"Sample of computed option errors: %0.4f\\n\", err_ds)"
   ]
  },
  {
   "cell_type": "code",
   "execution_count": 13,
   "metadata": {},
   "outputs": [
    {
     "data": {
      "text/plain": [
       "0.02"
      ]
     },
     "metadata": {},
     "output_type": "display_data"
    }
   ],
   "source": [
    "tolerance = 1e-3\n",
    "maxval = 20\n",
    "tolerance * maxval "
   ]
  },
  {
   "cell_type": "code",
   "execution_count": 10,
   "metadata": {},
   "outputs": [
    {
     "ename": "KeyError",
     "evalue": "KeyError: key \"price_matrix\" not found",
     "output_type": "error",
     "traceback": [
      "KeyError: key \"price_matrix\" not found\n",
      "\n",
      "Stacktrace:\n",
      " [1] getindex(g::JLD2.Group{JLD2.JLDFile{JLD2.MmapIO}}, name::String)\n",
      "   @ JLD2 ~/.julia/packages/JLD2/IyyZz/src/groups.jl:96\n",
      " [2] read\n",
      "   @ ~/.julia/packages/JLD2/IyyZz/src/JLD2.jl:348 [inlined]\n",
      " [3] (::var\"#13#14\")(f::JLD2.JLDFile{JLD2.MmapIO})\n",
      "   @ Main ~/.julia/packages/JLD2/IyyZz/src/loadsave.jl:153\n",
      " [4] jldopen(f::Function, args::String; kws::@Kwargs{})\n",
      "   @ JLD2 ~/.julia/packages/JLD2/IyyZz/src/loadsave.jl:4\n",
      " [5] jldopen(f::Function, args::String)\n",
      "   @ JLD2 ~/.julia/packages/JLD2/IyyZz/src/loadsave.jl:1\n",
      " [6] macro expansion\n",
      "   @ ~/.julia/packages/JLD2/IyyZz/src/loadsave.jl:152 [inlined]\n",
      " [7] top-level scope\n",
      "   @ ~/Documents/Research/post-doc/tt_option_greeks/notebook/single_assets/jl_notebook_cell_df34fa98e69747e1a8f8a730347b8e2f_X11sZmlsZQ==.jl:2"
     ]
    }
   ],
   "source": [
    "using JLD2\n",
    "JLD2.@load \"price_matrix_asianbarrier.jld2\" price_matrix"
   ]
  },
  {
   "cell_type": "code",
   "execution_count": 37,
   "metadata": {},
   "outputs": [],
   "source": [
    "len = 100\n",
    "d = 2\n",
    "num_comb = 100\n",
    "random_combinations = Tensor_FixedSeedMC.generate_random_combinations(len, d, num_comb);"
   ]
  },
  {
   "cell_type": "code",
   "execution_count": null,
   "metadata": {},
   "outputs": [],
   "source": [
    "S0_values = range(90, stop=120, length=101)[1:end-1]\n",
    "implied_vol_values = range(0.15, stop=0.25, length=101)[1:end-1]"
   ]
  },
  {
   "cell_type": "code",
   "execution_count": null,
   "metadata": {},
   "outputs": [],
   "source": [
    "mc = []\n",
    "for i in random_combinations\n",
    "    S0 = S0_values[i[1]]\n",
    "    sigma = implied_vol_values[i[2]]\n",
    "    price, _ = asian_barrier_option(T, K, B, S0, sigma, mu, r, d_normals, N_STEPS, N_PATHS)\n",
    "    #println(\"S0: \", S0, \", sigma: \", sigma, \", price: \", price)\n",
    "    push!(mc, price)\n",
    "end\n",
    "mc"
   ]
  },
  {
   "cell_type": "code",
   "execution_count": 40,
   "metadata": {},
   "outputs": [],
   "source": [
    "using JLD2\n",
    "JLD2.@save \"mc.jld2\" mc"
   ]
  }
 ],
 "metadata": {
  "kernelspec": {
   "display_name": "Julia 1.11.1",
   "language": "julia",
   "name": "julia-1.11"
  },
  "language_info": {
   "file_extension": ".jl",
   "mimetype": "application/julia",
   "name": "julia",
   "version": "1.11.1"
  }
 },
 "nbformat": 4,
 "nbformat_minor": 2
}
