{
 "cells": [
  {
   "cell_type": "code",
   "execution_count": 9,
   "metadata": {},
   "outputs": [
    {
     "name": "stderr",
     "output_type": "stream",
     "text": [
      "WARNING: could not import TensorCrossInterpolation.TensorCI into Main\n"
     ]
    }
   ],
   "source": [
    "using Random\n",
    "using Printf\n",
    "using LinearAlgebra\n",
    "using Statistics\n",
    "using TensorCrossInterpolation\n",
    "import TensorCrossInterpolation: TensorCI, CachedFunction\n",
    "import TensorCrossInterpolation as TCI\n"
   ]
  },
  {
   "cell_type": "code",
   "execution_count": 10,
   "metadata": {},
   "outputs": [
    {
     "data": {
      "text/plain": [
       "asian_barrier_option (generic function with 1 method)"
      ]
     },
     "metadata": {},
     "output_type": "display_data"
    }
   ],
   "source": [
    "function asian_barrier_option(j, T, K, B, S0s, sigmas, mu, r, d_normals, N_STEPS, N_PATHS)\n",
    "    tmp1 = mu * T / N_STEPS\n",
    "    tmp2 = exp(-r * T)\n",
    "    tmp3 = sqrt(T / N_STEPS)\n",
    "    d_s = zeros(Float64, N_PATHS)\n",
    "    S0 = S0s[j[1]]\n",
    "    sigma = sigmas[j[2]]\n",
    "\n",
    "    \n",
    "    for i in 1:N_PATHS\n",
    "        s_curr = S0\n",
    "        running_average = 0.0\n",
    "        \n",
    "        for n in 1:N_STEPS\n",
    "            # Update the current price\n",
    "            s_curr += tmp1 * s_curr + sigma * s_curr * tmp3 * d_normals[i + (n - 1) * N_PATHS]\n",
    "            \n",
    "            # Update the running average\n",
    "            running_average += (s_curr - running_average) / n\n",
    "            \n",
    "            # Check the barrier\n",
    "            if running_average <= B\n",
    "                break\n",
    "            end\n",
    "        end\n",
    "        \n",
    "        # Calculate payoff\n",
    "        payoff = max(running_average - K, 0)\n",
    "        \n",
    "        # Discounted payoff\n",
    "        d_s[i] = tmp2 * payoff\n",
    "    end\n",
    "\n",
    "    return mean(d_s)\n",
    "end\n"
   ]
  },
  {
   "cell_type": "code",
   "execution_count": 11,
   "metadata": {},
   "outputs": [
    {
     "data": {
      "text/plain": [
       "2-element Vector{Int64}:\n",
       " 89\n",
       " 99"
      ]
     },
     "metadata": {},
     "output_type": "display_data"
    }
   ],
   "source": [
    "# Example usage\n",
    "d = 2\n",
    "N_STEPS = 365\n",
    "N_PATHS = 1000000\n",
    "T = 1.0\n",
    "K = 110.0\n",
    "B = 100.0\n",
    "S0 = 120.0\n",
    "sigma = 0.35\n",
    "mu = 0.1\n",
    "r = 0.05\n",
    "Random.seed!(1234)\n",
    "d_normals = randn(Float64, N_STEPS * N_PATHS)  # Standard normal random numbers\n",
    "S0_values = range(90, stop=120, length=101)[1:end-1]\n",
    "implied_vol_values = range(0.15, stop=0.25, length=101)[1:end-1]\n",
    "N = 100\n",
    "localdims_v = fill(N, d)\n",
    "firstpivot_v = rand(1:N, d)\n",
    "#mean_ds = asian_barrier_option(j, T, K, B, S0_values, implied_vol_values, mu, r, d_normals, N_STEPS, N_PATHS)\n"
   ]
  },
  {
   "cell_type": "code",
   "execution_count": 12,
   "metadata": {},
   "outputs": [],
   "source": []
  },
  {
   "cell_type": "code",
   "execution_count": 13,
   "metadata": {},
   "outputs": [
    {
     "data": {
      "text/plain": [
       "1.0e-5"
      ]
     },
     "metadata": {},
     "output_type": "display_data"
    }
   ],
   "source": [
    "abo(j) = asian_barrier_option(j, T, K, B, S0_values, implied_vol_values, mu, r, d_normals, N_STEPS, N_PATHS)\n",
    "# Display a sample of results\n",
    "abo_ci = TCI.CachedFunction{ComplexF64}(abo, localdims_v)\n",
    "#@printf(\"Sample of computed option prices: %0.4f\\n\", mean_ds)\n",
    "tol = 1e-5"
   ]
  },
  {
   "cell_type": "code",
   "execution_count": 14,
   "metadata": {},
   "outputs": [
    {
     "data": {
      "text/plain": [
       "tci_oneshot (generic function with 1 method)"
      ]
     },
     "metadata": {},
     "output_type": "display_data"
    }
   ],
   "source": [
    "function tci_oneshot(func, d, localdims, firstpivot, tol)\n",
    "    BLAS.set_num_threads(4)\n",
    "    #func_q = GenNDfunc(d, func)\n",
    "\n",
    "    for isearch in 1:100\n",
    "        p = TCI.optfirstpivot(func, localdims, firstpivot) # search optimal fist pivot\n",
    "        if abs(func(p)) > abs(func(firstpivot))\n",
    "            firstpivot = p\n",
    "        end\n",
    "    end\n",
    "\n",
    "    # execute tci2\n",
    "    qtt, ranks, errors = TCI.crossinterpolate2(\n",
    "        ComplexF64,\n",
    "        func, \n",
    "        localdims, \n",
    "        [firstpivot], \n",
    "        tolerance = tol, \n",
    "        maxiter = 5, \n",
    "        verbosity = 1, \n",
    "        loginterval = 1,\n",
    "        pivotsearch = :rook,\n",
    "    )\n",
    "\n",
    "    return qtt, errors\n",
    "end     "
   ]
  },
  {
   "cell_type": "code",
   "execution_count": null,
   "metadata": {},
   "outputs": [],
   "source": [
    "tt_abo, errors_phi_2 = tci_oneshot(abo_ci, d, localdims_v, firstpivot_v, tol)    "
   ]
  },
  {
   "cell_type": "code",
   "execution_count": null,
   "metadata": {},
   "outputs": [],
   "source": [
    "for i in 1:d\n",
    "    @show size(tt_abo[i])\n",
    "end"
   ]
  },
  {
   "cell_type": "code",
   "execution_count": null,
   "metadata": {},
   "outputs": [],
   "source": [
    "using JLD2\n",
    "JLD2.@save \"tt_abo, tol$tol.jld2\" tt_abo"
   ]
  }
 ],
 "metadata": {
  "kernelspec": {
   "display_name": "Julia 1.11.1",
   "language": "julia",
   "name": "julia-1.11"
  },
  "language_info": {
   "file_extension": ".jl",
   "mimetype": "application/julia",
   "name": "julia",
   "version": "1.11.1"
  }
 },
 "nbformat": 4,
 "nbformat_minor": 2
}
