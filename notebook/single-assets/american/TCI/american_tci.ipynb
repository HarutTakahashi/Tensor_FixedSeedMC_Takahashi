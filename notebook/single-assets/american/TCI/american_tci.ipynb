{
 "cells": [
  {
   "cell_type": "code",
   "execution_count": 7,
   "metadata": {},
   "outputs": [],
   "source": [
    "using Random\n",
    "using Statistics\n",
    "using LinearAlgebra\n",
    "using Plots\n",
    "using Polynomials\n",
    "using LinearAlgebra\n",
    "using TensorCrossInterpolation\n",
    "import TensorCrossInterpolation as TCI\n",
    "using JLD2\n",
    "using Random\n"
   ]
  },
  {
   "cell_type": "code",
   "execution_count": 8,
   "metadata": {},
   "outputs": [
    {
     "data": {
      "text/plain": [
       "price_american_put_option (generic function with 1 method)"
      ]
     },
     "metadata": {},
     "output_type": "display_data"
    }
   ],
   "source": [
    "function tci_oneshot(func, d, localdims, firstpivot, tol)\n",
    "    BLAS.set_num_threads(4)\n",
    "\n",
    "    for isearch in 1:100\n",
    "        p = TCI.optfirstpivot(func, localdims, firstpivot) # search optimal fist pivot\n",
    "        if abs(func(p)) > abs(func(firstpivot))\n",
    "            firstpivot = p\n",
    "        end\n",
    "    end\n",
    "\n",
    "    # execute tci2\n",
    "    qtt, ranks, errors = TCI.crossinterpolate2(\n",
    "        ComplexF64,\n",
    "        func,\n",
    "        localdims,\n",
    "        [firstpivot],\n",
    "        #tolerance=tol,\n",
    "        maxiter=6,\n",
    "        verbosity=1,\n",
    "        loginterval=1,\n",
    "        pivotsearch=:rook,\n",
    "    )\n",
    "\n",
    "    return qtt, errors\n",
    "end\n",
    "\n",
    "\n",
    "# 標準正規乱数を生成する関数\n",
    "function gen_sn(M, I; anti_paths=true, mo_match=true, seed=seed)\n",
    "    Random.seed!(seed)  # 乱数シードを固定\n",
    "    if anti_paths\n",
    "        sn = randn(M + 1, Int(I / 2))\n",
    "        sn = hcat(sn, -sn)\n",
    "    else\n",
    "        sn = randn(M + 1, I)\n",
    "    end\n",
    "    if mo_match\n",
    "        sn = (sn .- mean(sn)) ./ std(sn)\n",
    "    end\n",
    "    return sn\n",
    "end\n",
    "\n",
    "# アメリカン・プットオプションの価格を計算する関数\n",
    "function price_american_put_option(j, K, S0s::Vector{Float64}, r::Float64, sigmas::Vector{Float64}, T::Float64; M::Int=50, I::Int=1000000, seed=seed)\n",
    "\n",
    "    Random.seed!(seed)  # 乱数シードを固定\n",
    "    #K = Ks[j[1]]\n",
    "    sigma = sigmas[j[1]]\n",
    "    S0 = S0s[j[2]]\n",
    "    dt = T / M                       # タイムステップの長さ\n",
    "    df = exp(-r * dt)                # 割引ファクター\n",
    "    S = zeros(M + 1, I)              # 資産価格パスの行列\n",
    "    S[1, :] .= S0                    # 初期資産価格を設定\n",
    "    sn = gen_sn(M, I)                # 標準正規乱数の生成\n",
    "\n",
    "\n",
    "\n",
    "    # 資産価格パスのシミュレーション\n",
    "    for t in 2:M+1\n",
    "        S[t, :] = S[t-1, :] .* exp.((r - 0.5 * sigma^2) * dt .+ sigma * sqrt(dt) .* sn[t, :])\n",
    "    end\n",
    "\n",
    "    h = max.(K .- S, 0.0)            # 即時行使価値\n",
    "    V = copy(h)                      # オプション価値行列\n",
    "\n",
    "    # Longstaff-Schwartzアルゴリズムの実装（逆順ループ）\n",
    "    for t in M:-1:2\n",
    "        discounted_V = V[t+1, :] * df   # 次期のオプション価値を現在価値に割引\n",
    "\n",
    "        # 回帰モデルのフィッティング（次数3の多項式）\n",
    "        p = fit(S[t, :], discounted_V, 3)\n",
    "\n",
    "        # 継続価値の推定\n",
    "        C = p.(S[t, :])\n",
    "\n",
    "        # 行使戦略の決定\n",
    "        V[t, :] = ifelse.(C .> h[t, :], V[t+1, :] * df, h[t, :])\n",
    "    end\n",
    "\n",
    "    C0 = df * mean(V[2, :])               # オプション価格の推定\n",
    "    return C0\n",
    "end\n"
   ]
  },
  {
   "cell_type": "code",
   "execution_count": 9,
   "metadata": {},
   "outputs": [
    {
     "data": {
      "text/plain": [
       "0.001"
      ]
     },
     "metadata": {},
     "output_type": "display_data"
    }
   ],
   "source": [
    "# 固定パラメータ\n",
    "S0 = 100.0      # 初期資産価格\n",
    "r = 0.05        # 無リスク金利\n",
    "T = 1.0         # 満期（年）\n",
    "M = 365          # タイムステップ数\n",
    "I = 10000       # シミュレーションパス数\n",
    "seed = 42\n",
    "K = 100.0       # ストライクプライス\n",
    "\n",
    "# 変化させるパラメータ\n",
    "#K_range = range(70.0, 150.0, length=200)\n",
    "\n",
    "#sigma_range = range(0.10, 0.30, length=200)\n",
    "#Ks = collect(70:0.4:149.6) # 200\n",
    "#S0s = collect(70:0.4:149.6) # 200\n",
    "#sigmas = collect(0.10:0.001:0.299) #200\n",
    "\n",
    "S0s = collect(90:0.3:119.7) # 200\n",
    "sigmas = collect(0.15:0.001:0.249) #200\n",
    "d = 2\n",
    "\n",
    "tol = 1e-3\n"
   ]
  },
  {
   "cell_type": "code",
   "execution_count": null,
   "metadata": {},
   "outputs": [],
   "source": [
    "op_(j) = price_american_put_option(j, K, S0s, r, sigmas, T, M=M, I=I)\n",
    "#op_func = WrapFuncFloat(op_)\n",
    "\n",
    "localdims = fill(100, d)\n",
    "firstpivot = rand(1:100, d)\n",
    "\n",
    "op_batch = TCI.ThreadedBatchEvaluator{Float64}(op_, localdims)\n",
    "\n",
    "tt_op, errors = tci_oneshot(op_batch, d, localdims, firstpivot, tol)"
   ]
  },
  {
   "cell_type": "code",
   "execution_count": null,
   "metadata": {},
   "outputs": [],
   "source": [
    "JLD2.@save \"sigmas_stock0_10_4_american_bond10_tol$tol.jld2\" tt_op\n",
    "@show \"end\""
   ]
  }
 ],
 "metadata": {
  "kernelspec": {
   "display_name": "Julia 1.11.1",
   "language": "julia",
   "name": "julia-1.11"
  },
  "language_info": {
   "file_extension": ".jl",
   "mimetype": "application/julia",
   "name": "julia",
   "version": "1.11.1"
  }
 },
 "nbformat": 4,
 "nbformat_minor": 2
}
