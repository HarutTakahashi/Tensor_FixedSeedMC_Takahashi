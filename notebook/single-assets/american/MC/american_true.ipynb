{
 "cells": [
  {
   "cell_type": "code",
   "execution_count": 1,
   "metadata": {},
   "outputs": [],
   "source": [
    "using Random\n",
    "using Statistics\n",
    "using LinearAlgebra\n",
    "using Plots\n",
    "using Polynomials\n",
    "using JLD2\n",
    "import Tensor_FixedSeedMC as TTMC"
   ]
  },
  {
   "cell_type": "code",
   "execution_count": 2,
   "metadata": {},
   "outputs": [],
   "source": [
    "#import Pkg; Pkg.add(\"Polynomials\")"
   ]
  },
  {
   "cell_type": "code",
   "execution_count": 3,
   "metadata": {},
   "outputs": [
    {
     "data": {
      "text/plain": [
       "(4.03366581525055, 0.027903763819380693)"
      ]
     },
     "metadata": {},
     "output_type": "display_data"
    }
   ],
   "source": [
    "# 標準正規乱数を生成する関数\n",
    "function gen_sn(M, I; anti_paths=true, mo_match=true)\n",
    "    Random.seed!(1234)\n",
    "    if anti_paths\n",
    "        sn = randn(M + 1, Int(I / 2))\n",
    "        sn = hcat(sn, -sn)\n",
    "    else\n",
    "        sn = randn(M + 1, I)\n",
    "    end\n",
    "    if mo_match\n",
    "        sn = (sn .- mean(sn)) ./ std(sn)\n",
    "    end\n",
    "    return sn\n",
    "end\n",
    "\n",
    "# アメリカン・プットオプションの価格を計算する関数\n",
    "function price_american_put_option(K::Float64, S0::Float64, r::Float64, sigma::Float64, T::Float64; M::Int=50, I::Int=10000)\n",
    "    dt = T / M                       # タイムステップの長さ\n",
    "    df = exp(-r * dt)                # 割引ファクター\n",
    "    S = zeros(M + 1, I)              # 資産価格パスの行列\n",
    "    S[1, :] .= S0                    # 初期資産価格を設定\n",
    "    sn = gen_sn(M, I)                # 標準正規乱数の生成\n",
    "\n",
    "    # 資産価格パスのシミュレーション\n",
    "    for t in 2:M+1\n",
    "        S[t, :] = S[t - 1, :] .* exp.((r - 0.5 * sigma^2) * dt .+ sigma * sqrt(dt) .* sn[t, :])\n",
    "    end\n",
    "\n",
    "    h = max.(K .- S, 0.0)            # 即時行使価値\n",
    "    V = copy(h)                      # オプション価値行列\n",
    "\n",
    "    # Longstaff-Schwartzアルゴリズムの実装（逆順ループ）\n",
    "    for t in M:-1:2\n",
    "        discounted_V = V[t + 1, :] * df   # 次期のオプション価値を現在価値に割引\n",
    "\n",
    "        # 回帰モデルのフィッティング（次数3の多項式）\n",
    "        p = fit(S[t, :], discounted_V, 3)\n",
    "\n",
    "        # 継続価値の推定\n",
    "        C = p.(S[t, :])\n",
    "\n",
    "        # 行使戦略の決定\n",
    "        V[t, :] = ifelse.(C .> h[t, :], V[t + 1, :] * df, h[t, :])\n",
    "    end\n",
    "\n",
    "    C0 = df * mean(V[2, :])               # オプション価格の推定\n",
    "    err = 1.96 * df * std(V[2, :]) / sqrt(I)     # オプション価格の標準誤差\n",
    "    return C0, err\n",
    "end\n",
    "\n",
    "# 固定パラメータ\n",
    "S0 = 100.0      # 初期資産価格\n",
    "r = 0.05        # 無リスク金利\n",
    "T = 1.0         # 満期（年）\n",
    "M = 365         # タイムステップ数\n",
    "I = 100000       # シミュレーションパス数\n",
    "\n",
    "# 変化させるパラメータの範囲\n",
    "S0_range = collect(90:0.3:119.7) # 200\n",
    "sigma_range = collect(0.15:0.001:0.249) #200\n",
    "# オプション価格を格納する行列\n",
    "option_price = zeros(length(sigma_range), length(S0_range))\n",
    "\n",
    "\n",
    "K = 100.0\n",
    "sigma = sigma_range[1]\n",
    "option_price, err = price_american_put_option(K, S0, r, sigma, T, M=M, I=I)"
   ]
  },
  {
   "cell_type": "code",
   "execution_count": 4,
   "metadata": {},
   "outputs": [],
   "source": [
    "random_combinations = TTMC.generate_random_combinations(length(S0_range), 2, 100);"
   ]
  },
  {
   "cell_type": "code",
   "execution_count": 5,
   "metadata": {},
   "outputs": [
    {
     "data": {
      "text/plain": [
       "2-element Vector{Vector{Any}}:\n",
       " [7.909418418891762, 4.737036795495581, 9.806194499548939, 2.5395569735834957, 2.4373539463045173, 2.3778287454208615, 5.533384346529686, 7.481621164946778, 0.8769836700527268, 2.242949061386431  …  1.6664228175341282, 5.771906155026692, 6.309611931843609, 5.119210837773977, 2.0183682322201766, 3.0136638382410132, 6.626969678864436, 5.7654179434962485, 1.6511338538410008, 8.627965013584236]\n",
       " [0.036576763448995415, 0.0419489971254994, 0.03882002474019096, 0.03155559375527327, 0.023490149816698995, 0.02810061302243763, 0.03599698856130929, 0.04319011427040661, 0.015282099133788389, 0.026281331340740264  …  0.022838656903049044, 0.04214477371933169, 0.04019430434231982, 0.04378785625955837, 0.02666879038831784, 0.03165946875134441, 0.04745900583031191, 0.03642187237890039, 0.02446303554595037, 0.049466676602255816]"
      ]
     },
     "metadata": {},
     "output_type": "display_data"
    }
   ],
   "source": [
    "prices = []\n",
    "errs = []\n",
    "for i in random_combinations\n",
    "    S0 = S0_range[i[1]]\n",
    "    sigma = sigma_range[i[2]]\n",
    "    option_price, err = price_american_put_option(K, S0, r, sigma, T, M=M, I=I)\n",
    "    push!(prices, option_price)\n",
    "    push!(errs, err)\n",
    "end\n",
    "\n",
    "res = [prices, errs]"
   ]
  },
  {
   "cell_type": "code",
   "execution_count": 6,
   "metadata": {},
   "outputs": [],
   "source": [
    "JLD2.@save \"american_S0_sigma_true.jld2\" res"
   ]
  },
  {
   "cell_type": "markdown",
   "metadata": {},
   "source": []
  },
  {
   "cell_type": "code",
   "execution_count": 2,
   "metadata": {},
   "outputs": [
    {
     "data": {
      "text/plain": [
       "2-element Vector{Vector{Any}}:\n",
       " [7.909418418891762, 4.737036795495581, 9.806194499548939, 2.5395569735834957, 2.4373539463045173, 2.3778287454208615, 5.533384346529686, 7.481621164946778, 0.8769836700527268, 2.242949061386431  …  1.6664228175341282, 5.771906155026692, 6.309611931843609, 5.119210837773977, 2.0183682322201766, 3.0136638382410132, 6.626969678864436, 5.7654179434962485, 1.6511338538410008, 8.627965013584236]\n",
       " [0.036576763448995415, 0.0419489971254994, 0.03882002474019096, 0.03155559375527327, 0.023490149816698995, 0.02810061302243763, 0.03599698856130929, 0.04319011427040661, 0.015282099133788389, 0.026281331340740264  …  0.022838656903049044, 0.04214477371933169, 0.04019430434231982, 0.04378785625955837, 0.02666879038831784, 0.03165946875134441, 0.04745900583031191, 0.03642187237890039, 0.02446303554595037, 0.049466676602255816]"
      ]
     },
     "metadata": {},
     "output_type": "display_data"
    }
   ],
   "source": [
    "using JLD2\n",
    "JLD2.@load \"american_S0_sigma_true.jld2\" res\n",
    "res = res"
   ]
  },
  {
   "cell_type": "code",
   "execution_count": null,
   "metadata": {},
   "outputs": [],
   "source": []
  }
 ],
 "metadata": {
  "kernelspec": {
   "display_name": "Julia 1.11.1",
   "language": "julia",
   "name": "julia-1.11"
  },
  "language_info": {
   "file_extension": ".jl",
   "mimetype": "application/julia",
   "name": "julia",
   "version": "1.11.1"
  }
 },
 "nbformat": 4,
 "nbformat_minor": 2
}
