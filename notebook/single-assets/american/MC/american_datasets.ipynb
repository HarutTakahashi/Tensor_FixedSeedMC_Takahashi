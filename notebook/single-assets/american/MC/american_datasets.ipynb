{
 "cells": [
  {
   "cell_type": "code",
   "execution_count": 22,
   "metadata": {},
   "outputs": [],
   "source": [
    "using Random\n",
    "using Statistics\n",
    "using LinearAlgebra\n",
    "using Plots\n",
    "using Polynomials\n",
    "using JLD2\n",
    "import Tensor_FixedSeedMC as TTMC"
   ]
  },
  {
   "cell_type": "code",
   "execution_count": 23,
   "metadata": {},
   "outputs": [],
   "source": [
    "#import Pkg; Pkg.add(\"Polynomials\")"
   ]
  },
  {
   "cell_type": "code",
   "execution_count": 24,
   "metadata": {},
   "outputs": [
    {
     "data": {
      "text/plain": [
       "(4.01505063546102, 0.08615603218695884)"
      ]
     },
     "metadata": {},
     "output_type": "display_data"
    }
   ],
   "source": [
    "# 標準正規乱数を生成する関数\n",
    "function gen_sn(M, I; anti_paths=true, mo_match=true)\n",
    "    Random.seed!(1234)\n",
    "    if anti_paths\n",
    "        sn = randn(M + 1, Int(I / 2))\n",
    "        sn = hcat(sn, -sn)\n",
    "    else\n",
    "        sn = randn(M + 1, I)\n",
    "    end\n",
    "    if mo_match\n",
    "        sn = (sn .- mean(sn)) ./ std(sn)\n",
    "    end\n",
    "    return sn\n",
    "end\n",
    "\n",
    "# アメリカン・プットオプションの価格を計算する関数\n",
    "function price_american_put_option(K::Float64, S0::Float64, r::Float64, sigma::Float64, T::Float64; M::Int=50, I::Int=10000)\n",
    "    dt = T / M                       # タイムステップの長さ\n",
    "    df = exp(-r * dt)                # 割引ファクター\n",
    "    S = zeros(M + 1, I)              # 資産価格パスの行列\n",
    "    S[1, :] .= S0                    # 初期資産価格を設定\n",
    "    sn = gen_sn(M, I)                # 標準正規乱数の生成\n",
    "\n",
    "    # 資産価格パスのシミュレーション\n",
    "    for t in 2:M+1\n",
    "        S[t, :] = S[t - 1, :] .* exp.((r - 0.5 * sigma^2) * dt .+ sigma * sqrt(dt) .* sn[t, :])\n",
    "    end\n",
    "\n",
    "    h = max.(K .- S, 0.0)            # 即時行使価値\n",
    "    V = copy(h)                      # オプション価値行列\n",
    "\n",
    "    # Longstaff-Schwartzアルゴリズムの実装（逆順ループ）\n",
    "    for t in M:-1:2\n",
    "        discounted_V = V[t + 1, :] * df   # 次期のオプション価値を現在価値に割引\n",
    "\n",
    "        # 回帰モデルのフィッティング（次数3の多項式）\n",
    "        p = fit(S[t, :], discounted_V, 3)\n",
    "\n",
    "        # 継続価値の推定\n",
    "        C = p.(S[t, :])\n",
    "\n",
    "        # 行使戦略の決定\n",
    "        V[t, :] = ifelse.(C .> h[t, :], V[t + 1, :] * df, h[t, :])\n",
    "    end\n",
    "\n",
    "    C0 = df * mean(V[2, :])               # オプション価格の推定\n",
    "    err = 1.96 * df * std(V[2, :]) / sqrt(I)     # オプション価格の標準誤差\n",
    "    return C0, err\n",
    "end\n",
    "\n",
    "# 固定パラメータ\n",
    "S0 = 100.0      # 初期資産価格\n",
    "r = 0.05        # 無リスク金利\n",
    "T = 1.0         # 満期（年）\n",
    "M = 365         # タイムステップ数\n",
    "I = 10000       # シミュレーションパス数\n",
    "\n",
    "# 変化させるパラメータの範囲\n",
    "S0_range = collect(90:0.3:119.7) # 200\n",
    "sigma_range = collect(0.15:0.001:0.249) #200\n",
    "# オプション価格を格納する行列\n",
    "option_price = zeros(length(sigma_range), length(S0_range))\n",
    "\n",
    "\n",
    "K = 100.0\n",
    "sigma = sigma_range[1]\n",
    "option_price, err = price_american_put_option(K, S0, r, sigma, T, M=M, I=I)"
   ]
  },
  {
   "cell_type": "code",
   "execution_count": 25,
   "metadata": {},
   "outputs": [],
   "source": [
    "random_combinations = TTMC.generate_random_combinations(length(S0_range), 2, 100);"
   ]
  },
  {
   "cell_type": "code",
   "execution_count": 26,
   "metadata": {},
   "outputs": [
    {
     "data": {
      "text/plain": [
       "2-element Vector{Matrix{Float64}}:\n",
       " [10.18140318198178 10.178936389681878 … 12.74442947837249 12.779882955917083; 9.901496071020663 9.92909701103452 … 12.540662115754245 12.58773095744823; … ; 0.34209558143091084 0.35841936287147835 … 2.350010649940577 2.380281538221442; 0.3276097212152814 0.34026566151151877 … 2.304559883249757 2.328302995802493]\n",
       " [0.08055583043719607 0.08119543684142302 … 0.17486095776150104 0.1758764392511303; 0.0810899644181712 0.08362160294945277 … 0.1732129476054784 0.1743555738236753; … ; 0.026371419032937514 0.027196749304681127 … 0.09965600835816621 0.10058951594425894; 0.025558260233184034 0.026307977430554668 … 0.0983295058705615 0.09913445812366188]"
      ]
     },
     "metadata": {},
     "output_type": "display_data"
    }
   ],
   "source": [
    "#=\n",
    "res = []\n",
    "errs = []\n",
    "for i in S0_range\n",
    "    for j in sigma_range\n",
    "        option_price, err = price_american_put_option(K, i, r, j, T, M=M, I=I)\n",
    "        push!(res, option_price)\n",
    "        push!(errs, err)\n",
    "    end\n",
    "end\n",
    "=#\n",
    "price_matrix = Array{Float64}(undef, length(sigma_range), length(sigma_range))\n",
    "err = Array{Float64}(undef, length(sigma_range), length(sigma_range))\n",
    "for i in 1:length(S0_range)\n",
    "    for j in 1:length(sigma_range)\n",
    "        S0 = S0_range[i]\n",
    "        sigma = sigma_range[j]\n",
    "        #price_matrix[i, j] = asian_barrier_option(S0, K, B, T, sigma, mu, r, N_STEPS, N_PATHS)\n",
    "        price_matrix[i, j], err[i, j] = price_american_put_option(K, S0, r, sigma, T, M=M, I=I)\n",
    "    end\n",
    "end\n",
    "\n",
    "res = [price_matrix, err]\n"
   ]
  },
  {
   "cell_type": "code",
   "execution_count": 27,
   "metadata": {},
   "outputs": [],
   "source": [
    "JLD2.@save \"american_S0_sigma_10_4.jld2\" res"
   ]
  },
  {
   "cell_type": "markdown",
   "metadata": {},
   "source": []
  },
  {
   "cell_type": "code",
   "execution_count": 28,
   "metadata": {},
   "outputs": [],
   "source": []
  }
 ],
 "metadata": {
  "kernelspec": {
   "display_name": "Julia 1.11.1",
   "language": "julia",
   "name": "julia-1.11"
  },
  "language_info": {
   "file_extension": ".jl",
   "mimetype": "application/julia",
   "name": "julia",
   "version": "1.11.1"
  }
 },
 "nbformat": 4,
 "nbformat_minor": 2
}
