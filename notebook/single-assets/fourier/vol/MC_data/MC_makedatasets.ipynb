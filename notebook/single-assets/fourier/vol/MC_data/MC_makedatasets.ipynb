{
 "cells": [
  {
   "cell_type": "code",
   "execution_count": 16,
   "metadata": {},
   "outputs": [],
   "source": [
    "using PyCall\n",
    "using Statistics\n",
    "using LinearAlgebra\n",
    "using Random\n",
    "using Distributions\n",
    "using TensorCrossInterpolation\n",
    "import TensorCrossInterpolation as TCI\n",
    "using JLD2\n",
    "#using OptimKit\n",
    ";"
   ]
  },
  {
   "cell_type": "code",
   "execution_count": 17,
   "metadata": {},
   "outputs": [],
   "source": [
    "# PyCallを用いてPythonのライブラリをインポート\n",
    "np = pyimport(\"numpy\")\n",
    "@pyimport tf_quant_finance as tff\n",
    "@pyimport tensorflow "
   ]
  },
  {
   "cell_type": "code",
   "execution_count": 18,
   "metadata": {},
   "outputs": [
    {
     "data": {
      "text/plain": [
       "100-element Vector{Float64}:\n",
       "  90.0\n",
       "  90.3\n",
       "  90.6\n",
       "  90.9\n",
       "  91.2\n",
       "  91.5\n",
       "  91.8\n",
       "  92.1\n",
       "  92.4\n",
       "  92.7\n",
       "   ⋮\n",
       " 117.3\n",
       " 117.6\n",
       " 117.9\n",
       " 118.2\n",
       " 118.5\n",
       " 118.8\n",
       " 119.1\n",
       " 119.4\n",
       " 119.7"
      ]
     },
     "metadata": {},
     "output_type": "display_data"
    }
   ],
   "source": [
    "# オプション満期\n",
    "T = 1.0\n",
    "# 無リスク金利\n",
    "r = 0.01\n",
    "# strike\n",
    "K = 100.0\n",
    "# 原資産数\n",
    "d = 5\n",
    "# 原資産価格初期値\n",
    "#S0 = [100.0] * d\n",
    "\n",
    "#l(0.5, d)\n",
    "# 相関行列\n",
    "\n",
    "\n",
    "corrMat = Matrix{Float64}(I, d, d)\n",
    "for i in 1:d\n",
    "    for j in 1:d\n",
    "        if i != j\n",
    "            corrMat[i, j] = 1/2\n",
    "        end\n",
    "    end\n",
    "end\n",
    "\n",
    "\n",
    "\n",
    "#localindex_v = [51 for _ in 1:d]\n",
    "#localindex_v  =  [69, 13, 91, 87, 51]\n",
    "#localindex_v = [79, 66, 54, 76, 62] # const 0.5 \n",
    "#localindex_v = [74, 86, 70, 54, 68] # const 0.5 with noisy\n",
    "#localindex_v =  [79, 66, 54, 76, 62] # const 0.5 with noisy\n",
    "localindex_v = [72, 74, 86, 63, 79]# const 0.5 with noisy\n",
    "nPath = 50000000\n",
    "S0 = fill(100, d)\n",
    "σs = collect(0.15:0.001:0.249)\n",
    "#σs = collect(0.1:0.003:0.397)\n",
    "\n",
    "# パス数\n",
    "#nPath = 10000000\n",
    "#σs = collect(0.1:0.003:0.397)\n",
    "#stock0 = collect(80.0:0.5:129.5)\n",
    "stock0 = collect(90.0:0.3:119.7)"
   ]
  },
  {
   "cell_type": "code",
   "execution_count": 19,
   "metadata": {},
   "outputs": [
    {
     "data": {
      "text/plain": [
       "5×5 Matrix{Float64}:\n",
       " 1.0  0.5  0.5  0.5  0.5\n",
       " 0.5  1.0  0.5  0.5  0.5\n",
       " 0.5  0.5  1.0  0.5  0.5\n",
       " 0.5  0.5  0.5  1.0  0.5\n",
       " 0.5  0.5  0.5  0.5  1.0"
      ]
     },
     "metadata": {},
     "output_type": "display_data"
    }
   ],
   "source": [
    "corrMat"
   ]
  },
  {
   "cell_type": "code",
   "execution_count": 20,
   "metadata": {},
   "outputs": [
    {
     "data": {
      "text/plain": [
       "5×5 Matrix{Float64}:\n",
       " 1.0       0.719655  0.728832  0.505532  0.303659\n",
       " 0.719655  1.0       0.394723  0.132542  0.515272\n",
       " 0.728832  0.394723  1.0       0.722767  0.178203\n",
       " 0.505532  0.132542  0.722767  1.0       0.401077\n",
       " 0.303659  0.515272  0.178203  0.401077  1.0"
      ]
     },
     "metadata": {},
     "output_type": "display_data"
    }
   ],
   "source": [
    "#=\n",
    "corrMat = [ \n",
    "    1.0       0.014664  0.10966   0.437896   0.133544 ;\n",
    "    0.014664  1.0       0.48206   0.585829   0.576213 ;\n",
    "    0.10966   0.48206   1.0       0.607172   0.524112 ;\n",
    "    0.437896  0.585829  0.607172  1.0        0.0560393 ;\n",
    "    0.133544  0.576213  0.524112  0.0560393  1.0]\n",
    "\n",
    "=#\n",
    "\n",
    "\n",
    "corrMat = [\n",
    "    1.0       0.303659  0.505532  0.719655  0.728832;\n",
    " 0.303659  1.0       0.401077  0.515272  0.178203;\n",
    " 0.505532  0.401077  1.0       0.132542  0.722767;\n",
    " 0.719655  0.515272  0.132542  1.0       0.394723;\n",
    " 0.728832  0.178203  0.722767  0.394723  1.0]\n",
    "new_order = [1, 4, 5, 3, 2]\n",
    "reordered_corrMat = corrMat[new_order, new_order]\n",
    "\n",
    "\n",
    "#=\n",
    "corrMat = [ 1.0       0.472591  0.595334  0.453276  0.554031;\n",
    "    0.472591  1.0       0.42697   0.539885  0.533166;\n",
    "    0.595334  0.42697   1.0       0.531799  0.462572;\n",
    "    0.453276  0.539885  0.531799  1.0       0.593003;\n",
    "    0.554031  0.533166  0.462572  0.593003  1.0]\n",
    "=#\n"
   ]
  },
  {
   "cell_type": "code",
   "execution_count": 21,
   "metadata": {},
   "outputs": [
    {
     "data": {
      "text/plain": [
       "5-element Vector{Float64}:\n",
       " 0.09523938212267367\n",
       " 0.16366894710092655\n",
       " 0.8017296544609304\n",
       " 1.0576484774530504\n",
       " 2.8817135388624187"
      ]
     },
     "metadata": {},
     "output_type": "display_data"
    }
   ],
   "source": [
    "is_symmetric(matrix::AbstractMatrix) = matrix == matrix'\n",
    "is_symmetric(corrMat)\n",
    "\n",
    "eigvals(corrMat)"
   ]
  },
  {
   "cell_type": "code",
   "execution_count": 22,
   "metadata": {},
   "outputs": [
    {
     "data": {
      "text/plain": [
       "100"
      ]
     },
     "metadata": {},
     "output_type": "display_data"
    }
   ],
   "source": [
    "len = length(σs)"
   ]
  },
  {
   "cell_type": "code",
   "execution_count": 23,
   "metadata": {},
   "outputs": [
    {
     "data": {
      "text/plain": [
       "calculate_option_price (generic function with 1 method)"
      ]
     },
     "metadata": {},
     "output_type": "display_data"
    }
   ],
   "source": [
    "function calculate_option_price(T::Float64, r::Float64, K::Float64, d::Int64, S0::Vector{Int64}, stock0::Vector{Float64}, localindex_v::Vector{Int64}, nPath::Int64, σs::Vector{Float64}, corrMat)::Tuple{Float64, Float64}\n",
    "    vols = [σs[i] for i in localindex_v[1:d]]\n",
    "    #S0s = [stock0[i] for i in localindex_v[d+1:2*d]]\n",
    "\n",
    "    process = tff.models.MultivariateGeometricBrownianMotion(\n",
    "        dim=d,\n",
    "        means=fill(r, d),\n",
    "        #volatilities=fill(0.2, d),\n",
    "        volatilities=vols,\n",
    "        corr_matrix=corrMat)\n",
    "    \n",
    "    paths = process.sample_paths(\n",
    "        times=[T],\n",
    "        #initial_state=S0s,\n",
    "        initial_state=S0,\n",
    "        random_type=tff.math.random.RandomType.PSEUDO,\n",
    "        num_samples=nPath).numpy()\n",
    "    \n",
    "    payoffs = max.(minimum(paths[:, 1, :], dims=2) .- K, 0.0)\n",
    "    #payoffs = vec(payoffs)  # 配列をベクトルに変換\n",
    "    mean_pv = exp(-r * T) * mean(payoffs)\n",
    "    std_pv = exp(-r * T) * std(payoffs)\n",
    "    #pv = exp(-r * T) * mean(max.(minimum(paths[:, 1, :], dims=2) .- K, 0.0))\n",
    "    return (mean_pv, std_pv)\n",
    "    #return pv\n",
    "\n",
    "end"
   ]
  },
  {
   "cell_type": "code",
   "execution_count": 24,
   "metadata": {},
   "outputs": [
    {
     "name": "stdout",
     "output_type": "stream",
     "text": [
      "Present Value: 1.4412325071590775\n",
      "Standard Deviation: 4.9101773657159296\n"
     ]
    }
   ],
   "source": [
    "# オプション価格の計算\n",
    "mean_pv, std_pv = calculate_option_price(T, r, K, d, S0, stock0, localindex_v, nPath, σs, reordered_corrMat)\n",
    "println(\"Present Value: \", mean_pv)\n",
    "println(\"Standard Deviation: \", std_pv)\n",
    "#pv = calculate_option_price(T, r, K, d, S0, localindex, nPath, σs, corrMat)\n",
    "#println(pv)\n",
    ";"
   ]
  },
  {
   "cell_type": "code",
   "execution_count": 25,
   "metadata": {},
   "outputs": [
    {
     "name": "stdout",
     "output_type": "stream",
     "text": [
      "真の値: 1.3885828365963908\n"
     ]
    }
   ],
   "source": [
    "true_value = 1.3885828365963908\n",
    "println(\"真の値: \", true_value)\n",
    ";"
   ]
  },
  {
   "cell_type": "code",
   "execution_count": 26,
   "metadata": {},
   "outputs": [
    {
     "name": "stdout",
     "output_type": "stream",
     "text": [
      "CI: 0.0013610317271535613\n"
     ]
    }
   ],
   "source": [
    "SE = std_pv/sqrt(nPath)\n",
    "CI = 1.96 * std_pv/sqrt(nPath)\n",
    "#@show 1.96 * SE\n",
    "#println(\"絶対誤差の指標の代わり=\", 2 * 1.96 * SE) \n",
    "println(\"CI: \", CI) \n",
    "#println(\"Present Value + CI: \", mean_pv + CI) \n",
    "#println(\"Present Value - CI: \", mean_pv - CI) \n",
    "#@show mean_pv + CI #　信頼区間\n",
    "#@show mean_pv - CI # 信頼区間\n",
    ";"
   ]
  },
  {
   "cell_type": "code",
   "execution_count": 27,
   "metadata": {},
   "outputs": [],
   "source": [
    "#=\n",
    "time_mc = @elapsed begin\n",
    "    for i in 1:20\n",
    "        calculate_option_price(T, r, K, d, S0, stock0, localindex_v, nPath, σs, corrMat)\n",
    "    end\n",
    "end\n",
    "time_mc/20\n",
    "=#"
   ]
  },
  {
   "cell_type": "code",
   "execution_count": 28,
   "metadata": {},
   "outputs": [
    {
     "data": {
      "text/plain": [
       "100-element Vector{Float64}:\n",
       " 1.2227466229876292\n",
       " 1.2713905757099886\n",
       " 1.2656388191507588\n",
       " 1.3185051392583156\n",
       " 1.2838661027430234\n",
       " 1.322475538686015\n",
       " 1.2432413853625657\n",
       " 1.2852258001074515\n",
       " 1.3360058578319423\n",
       " 1.2284288403127248\n",
       " ⋮\n",
       " 1.2816793066753813\n",
       " 1.3453231332752593\n",
       " 1.3333891449961184\n",
       " 1.3343804631820848\n",
       " 1.3536583787910763\n",
       " 1.1804466665211648\n",
       " 1.2516818005019366\n",
       " 1.2142960798495852\n",
       " 1.2819475361294685"
      ]
     },
     "metadata": {},
     "output_type": "display_data"
    }
   ],
   "source": [
    "function generate_random_combinations(len, d, num_samples)\n",
    "    Random.seed!(100)\n",
    "\n",
    "    possible_values = collect(1:len)\n",
    "    random_combinations = Vector{Int}[]\n",
    "    \n",
    "    for _ in 1:num_samples\n",
    "        combination = rand(possible_values, d)\n",
    "        push!(random_combinations, combination)\n",
    "    end\n",
    "    \n",
    "    return random_combinations\n",
    "end\n",
    "\n",
    "\n",
    "# Option pricing taking random combinations of parameters\n",
    "function rand_inner(T, r, K, d, S0, stock0, localindex_v, nPath, σs, corrMat, len, num_samples, random_combinations)\n",
    "    #random_combinations = generate_random_combinations(len, d, num_samples)\n",
    "    #random_combinations = [[i, 2, 2, 2, 2] for i in 1:len]\n",
    "\n",
    "    results = Vector{ComplexF64}()\n",
    "    \n",
    "    for i in 1:num_samples\n",
    "        ind = random_combinations[i]\n",
    "        localindex_v = ind\n",
    "        #inner_ = inner_p(d, ind, M_phi, M_v)\n",
    "        #result = (( η^d ) * exp(-r * (T - t)) * inner_) / ((2 * π) ^ d)\n",
    "        result, _ = calculate_option_price(T, r, K, d, S0, stock0, localindex_v, nPath, σs, corrMat)\n",
    "    \n",
    "        push!(results, result)\n",
    "    end\n",
    "    return results, random_combinations\n",
    "end\n",
    "\n",
    "num_samples = 100  # Number of parameter combinations\n",
    "random_combinations = generate_random_combinations(len, d, num_samples)\n",
    "results, combinations = rand_inner(T, r, K, d, S0, stock0, localindex_v, nPath, σs, reordered_corrMat, len, num_samples, random_combinations)\n",
    "mc =  real(results) \n",
    "#=\n",
    "for j in 1:5\n",
    "    random_combinations = [[i, j+1, 2, 2, 2] for i in 1:len]\n",
    "    results, combinations = rand_inner(T, r, K, d, S0, stock0, localindex_v, nPath, σs, corrMat, len, num_samples, random_combinations)\n",
    "    tt = real(results)\n",
    "    JLD2.@save \"vol_mc_d5_50000000_const_diff_$j.jld2\" tt\n",
    "end\n",
    "=#"
   ]
  },
  {
   "cell_type": "code",
   "execution_count": 29,
   "metadata": {},
   "outputs": [],
   "source": [
    "#JLD2.@save \"volatility_mc_d5_50000000_rand_extended.jld2\" mc\n",
    "JLD2.@save \"volatility_mc_d5_50000000_rand_reordered.jld2\" mc"
   ]
  },
  {
   "cell_type": "code",
   "execution_count": 30,
   "metadata": {},
   "outputs": [],
   "source": []
  }
 ],
 "metadata": {
  "kernelspec": {
   "display_name": "Julia 1.11.1",
   "language": "julia",
   "name": "julia-1.11"
  },
  "language_info": {
   "file_extension": ".jl",
   "mimetype": "application/julia",
   "name": "julia",
   "version": "1.11.1"
  }
 },
 "nbformat": 4,
 "nbformat_minor": 2
}
