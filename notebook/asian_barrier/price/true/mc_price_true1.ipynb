{
 "cells": [
  {
   "cell_type": "code",
   "execution_count": null,
   "metadata": {},
   "outputs": [],
   "source": [
    "##########################################################\n",
    "# パッケージの読み込みとエイリアスの設定\n",
    "##########################################################\n",
    "using Revise, LinearAlgebra, LaTeXStrings, Plots, CSV, DataFrames, JLD2, Random, Statistics, Distributions\n",
    "using TensorCrossInterpolation\n",
    "import TensorCrossInterpolation as TCI\n",
    "using Tensor_FixedSeedMC\n",
    "import Tensor_FixedSeedMC as TCIMC\n",
    "\n",
    "# アジアン・バリアオプションのモンテカルロシミュレーション（インデックス渡し版）\n",
    "function asian_barrier_option_tci(j, T, K, B, S0s, sigmas, mu, r, d_normals, N_STEPS, N_PATHS)\n",
    "    tmp1 = mu * T / N_STEPS\n",
    "    tmp2 = exp(-r * T)\n",
    "    tmp3 = sqrt(T / N_STEPS)\n",
    "    discounted_payoffs = zeros(Float64, N_PATHS)\n",
    "    S0 = S0s[j[1]]\n",
    "    sigma = sigmas[j[2]]\n",
    "    for i in 1:N_PATHS\n",
    "        s_curr = S0\n",
    "        running_avg = 0.0\n",
    "        for n in 1:N_STEPS\n",
    "            s_curr += tmp1 * s_curr + sigma * s_curr * tmp3 * d_normals[i + (n-1)*N_PATHS]\n",
    "            running_avg += (s_curr - running_avg) / n\n",
    "            if running_avg <= B\n",
    "                break\n",
    "            end\n",
    "        end\n",
    "        discounted_payoffs[i] = tmp2 * max(running_avg - K, 0)\n",
    "    end\n",
    "    mean_payoff = mean(discounted_payoffs)\n",
    "    std_payoff = std(discounted_payoffs)\n",
    "    error = std_payoff / sqrt(N_PATHS)\n",
    "    return mean_payoff\n",
    "end\n",
    "\n",
    "# アジアン・バリアオプションのモンテカルロシミュレーション（インデックス渡し版）\n",
    "function asian_barrier_option_error(j, T, K, B, S0s, sigmas, mu, r, d_normals, N_STEPS, N_PATHS)\n",
    "    tmp1 = mu * T / N_STEPS\n",
    "    tmp2 = exp(-r * T)\n",
    "    tmp3 = sqrt(T / N_STEPS)\n",
    "    discounted_payoffs = zeros(Float64, N_PATHS)\n",
    "    S0 = S0s[j[1]]\n",
    "    sigma = sigmas[j[2]]\n",
    "    for i in 1:N_PATHS\n",
    "        s_curr = S0\n",
    "        running_avg = 0.0\n",
    "        for n in 1:N_STEPS\n",
    "            s_curr += tmp1 * s_curr + sigma * s_curr * tmp3 * d_normals[i + (n-1)*N_PATHS]\n",
    "            running_avg += (s_curr - running_avg) / n\n",
    "            if running_avg <= B\n",
    "                break\n",
    "            end\n",
    "        end\n",
    "        discounted_payoffs[i] = tmp2 * max(running_avg - K, 0)\n",
    "    end\n",
    "    mean_payoff = mean(discounted_payoffs)\n",
    "    std_payoff = std(discounted_payoffs)\n",
    "    error = std_payoff / sqrt(N_PATHS)\n",
    "    return mean_payoff, error\n",
    "end\n",
    "\n",
    "# TCIワンショット補間関数\n",
    "function tci_oneshot(func, d, localdims, firstpivot, tol)\n",
    "    BLAS.set_num_threads(4)\n",
    "    for _ in 1:100\n",
    "        p = TCI.optfirstpivot(func, localdims, firstpivot)\n",
    "        if abs(func(p)) > abs(func(firstpivot))\n",
    "            firstpivot = p\n",
    "        end\n",
    "    end\n",
    "    qtt, ranks, errors = TCI.crossinterpolate2(Float64, func, localdims, [firstpivot],\n",
    "                                                  tolerance=tol, maxiter=6, verbosity=1,\n",
    "                                                  loginterval=1, pivotsearch=:rook)\n",
    "    return qtt, errors\n",
    "end"
   ]
  },
  {
   "cell_type": "code",
   "execution_count": null,
   "metadata": {},
   "outputs": [
    {
     "data": {
      "text/plain": [
       "tci_oneshot (generic function with 1 method)"
      ]
     },
     "metadata": {},
     "output_type": "display_data"
    }
   ],
   "source": []
  },
  {
   "cell_type": "code",
   "execution_count": null,
   "metadata": {},
   "outputs": [
    {
     "name": "stdout",
     "output_type": "stream",
     "text": [
      "Option Price (MC, single point): 0.0\n",
      "Option Price (MC, single point): (0.0, 0.0)\n"
     ]
    }
   ],
   "source": [
    "##########################################################\n",
    "# パラメータの設定とグリッド生成\n",
    "##########################################################\n",
    "d = 2\n",
    "N_STEPS = 365\n",
    "N_PATHS = 1000       # サンプル数（テスト用なので少なめ）\n",
    "T = 1.0\n",
    "K = 110.0\n",
    "B = 100.0\n",
    "mu = 0.1\n",
    "r = 0.05\n",
    "\n",
    "Random.seed!(1234)\n",
    "d_normals = randn(Float64, N_STEPS * N_PATHS)\n",
    "\n",
    "num_nodes = 100\n",
    "n = num_nodes\n",
    "S0_values = TCIMC.calc_cheby_abscissas(90.0, 120.0, num_nodes)\n",
    "implied_vol_values = TCIMC.calc_cheby_abscissas(0.15, 0.25, num_nodes)\n",
    "\n",
    "# インデックスを渡す設計のため、例として j = [30, 30] を利用\n",
    "j = [30, 30]\n",
    "println(\"Option Price (MC, single point): \", asian_barrier_option_tci(j, T, K, B, S0_values, implied_vol_values, mu, r, d_normals, N_STEPS, N_PATHS))\n",
    "println(\"Option Price (MC, single point): \", asian_barrier_option_error(j, T, K, B, S0_values, implied_vol_values, mu, r, d_normals, N_STEPS, N_PATHS))\n"
   ]
  },
  {
   "cell_type": "markdown",
   "metadata": {},
   "source": [
    "## original function"
   ]
  },
  {
   "cell_type": "code",
   "execution_count": 4,
   "metadata": {},
   "outputs": [],
   "source": [
    "using Statistics, Random\n",
    "\n",
    "#num_nodes = n\n",
    "S0_values_equiv = collect(range(90.0, stop=120.0, length=num_nodes))\n",
    "implied_vol_values_equiv = collect(range(0.15, stop=0.25, length=num_nodes))\n",
    "\n",
    "# 全インデックスの組を作成して、ランダムに100点抽出\n",
    "all_idx_pairs = [(i, j) for i in 1:num_nodes, j in 1:num_nodes]\n",
    "rand_idx_pairs = rand(vec(all_idx_pairs), 100)\n",
    "# -----------------------------------\n",
    "# Monte Carlo 10^8による価格評価\n",
    "# -----------------------------------\n",
    "N_PATHS_true = 1000\n",
    "price_dict_mc_true = Dict{Tuple{Int,Int}, Float64}()\n",
    "for (i_idx, j_idx) in rand_idx_pairs\n",
    "    result_mc = asian_barrier_option_tci(\n",
    "        [i_idx, j_idx], T, K, B, S0_values_equiv, implied_vol_values_equiv, mu, r, d_normals, N_STEPS, N_PATHS_true)\n",
    "    price_dict_mc_true[(i_idx, j_idx)] = result_mc\n",
    "end"
   ]
  },
  {
   "cell_type": "code",
   "execution_count": 5,
   "metadata": {},
   "outputs": [],
   "source": [
    "using JLD2\n",
    "JLD2.@save \"price_true_asian_barrier.jld2\" price_dict_mc_true"
   ]
  },
  {
   "cell_type": "code",
   "execution_count": 6,
   "metadata": {},
   "outputs": [],
   "source": []
  }
 ],
 "metadata": {
  "kernelspec": {
   "display_name": "Julia 1.11.2",
   "language": "julia",
   "name": "julia-1.11"
  },
  "language_info": {
   "file_extension": ".jl",
   "mimetype": "application/julia",
   "name": "julia",
   "version": "1.11.2"
  }
 },
 "nbformat": 4,
 "nbformat_minor": 2
}
