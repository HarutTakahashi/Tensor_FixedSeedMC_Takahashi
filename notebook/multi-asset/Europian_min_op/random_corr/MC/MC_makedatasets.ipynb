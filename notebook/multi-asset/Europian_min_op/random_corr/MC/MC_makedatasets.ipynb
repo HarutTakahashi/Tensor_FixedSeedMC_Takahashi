{
 "cells": [
  {
   "cell_type": "code",
   "execution_count": 1,
   "metadata": {},
   "outputs": [],
   "source": [
    "using PyCall\n",
    "using Statistics\n",
    "using LinearAlgebra\n",
    "using Random\n",
    "using Distributions\n",
    "using TensorCrossInterpolation\n",
    "import TensorCrossInterpolation as TCI\n",
    "using JLD2\n",
    "#import tt_option_greeks as ttog\n",
    ";"
   ]
  },
  {
   "cell_type": "code",
   "execution_count": 2,
   "metadata": {},
   "outputs": [],
   "source": [
    "# PyCallを用いてPythonのライブラリをインポート\n",
    "np = pyimport(\"numpy\")\n",
    "@pyimport tf_quant_finance as tff\n",
    "@pyimport tensorflow as tf"
   ]
  },
  {
   "cell_type": "code",
   "execution_count": 3,
   "metadata": {},
   "outputs": [],
   "source": [
    "# オプション満期\n",
    "T = 1.0\n",
    "# 無リスク金利\n",
    "r = 0.01\n",
    "# strike\n",
    "K = 100.0\n",
    "# 原資産数\n",
    "d = 5\n",
    "# 原資産価格初期値\n",
    "\n",
    "corrMat = Matrix{Float64}(I, d, d)\n",
    "for i in 1:d\n",
    "    for j in 1:d\n",
    "        if i != j\n",
    "            corrMat[i, j] = 1/2\n",
    "        end\n",
    "    end\n",
    "end\n",
    "nPath = 10^6\n",
    "S0 = fill(100, d)\n",
    ";"
   ]
  },
  {
   "cell_type": "code",
   "execution_count": 4,
   "metadata": {},
   "outputs": [
    {
     "data": {
      "text/plain": [
       "10000"
      ]
     },
     "metadata": {},
     "output_type": "display_data"
    }
   ],
   "source": [
    "function chebyshev_lobatto_nodes(n::Int, a::Real, b::Real)\n",
    "    # 標準区間 [-1,1] を -1 → +1 の順で生成\n",
    "    x_standard = [cos(π * (n - 1 - i) / (n - 1)) for i in 0:n-1]\n",
    "\n",
    "    # [a,b] への線形変換: x \\in [-1,1] を x_scaled \\in [a,b] に写す\n",
    "    #   x_scaled = (b-a)/2 * (x_standard + 1) + a\n",
    "    x_scaled   = 0.5 * (b - a) .* (x_standard .+ 1) .+ a\n",
    "\n",
    "    return x_scaled, x_standard\n",
    "end\n",
    "\n",
    "σs, _ =  chebyshev_lobatto_nodes(100, 0.15, 0.25)\n",
    "len_σs = length(σs)\n",
    "stock0, _ =  chebyshev_lobatto_nodes(100, 90, 120)\n",
    "len_stock0 = length(stock0)\n",
    "len = len_σs * len_stock0"
   ]
  },
  {
   "cell_type": "code",
   "execution_count": 5,
   "metadata": {},
   "outputs": [
    {
     "data": {
      "text/plain": [
       "5×5 Matrix{Float64}:\n",
       " 1.0       0.303659  0.505532  0.719655  0.728832\n",
       " 0.303659  1.0       0.401077  0.515272  0.178203\n",
       " 0.505532  0.401077  1.0       0.132542  0.722767\n",
       " 0.719655  0.515272  0.132542  1.0       0.394723\n",
       " 0.728832  0.178203  0.722767  0.394723  1.0"
      ]
     },
     "metadata": {},
     "output_type": "display_data"
    }
   ],
   "source": [
    "\n",
    "\n",
    "\n",
    "corrMat = [\n",
    "    1.0       0.303659  0.505532  0.719655  0.728832;\n",
    " 0.303659  1.0       0.401077  0.515272  0.178203;\n",
    " 0.505532  0.401077  1.0       0.132542  0.722767;\n",
    " 0.719655  0.515272  0.132542  1.0       0.394723;\n",
    " 0.728832  0.178203  0.722767  0.394723  1.0]\n",
    "\n",
    "#new_order = [1, 4, 5, 3, 2]\n",
    "#reordered_corrMat = corrMat[new_order, new_order]"
   ]
  },
  {
   "cell_type": "code",
   "execution_count": 6,
   "metadata": {},
   "outputs": [
    {
     "data": {
      "text/plain": [
       "calculate_option_price (generic function with 1 method)"
      ]
     },
     "metadata": {},
     "output_type": "display_data"
    }
   ],
   "source": [
    "function calculate_option_price(T::Float64, r::Float64, K::Float64, d::Int64, S0::Vector{Int64}, stock0::Vector{Float64}, localindex_v::Vector{Int64}, nPath::Int64, σs::Vector{Float64}, corrMat)::Tuple{Float64, Float64}\n",
    "    vols = [σs[i] for i in localindex_v[1:2:2*d]]\n",
    "    S0s = [stock0[i] for i in localindex_v[2:2:2*d]]\n",
    "    process = tff.models.MultivariateGeometricBrownianMotion(\n",
    "        dim=d,\n",
    "        means=fill(r, d),\n",
    "        volatilities=vols,\n",
    "        corr_matrix=corrMat)\n",
    "    \n",
    "    paths = process.sample_paths(\n",
    "        times=[T],\n",
    "        initial_state=S0s,\n",
    "        random_type=tff.math.random.RandomType.PSEUDO,\n",
    "        num_samples=nPath).numpy()\n",
    "    \n",
    "    payoffs = max.(minimum(paths[:, 1, :], dims=2) .- K, 0.0)\n",
    "    #payoffs = vec(payoffs)  # 配列をベクトルに変換\n",
    "    mean_pv = exp(-r * T) * mean(payoffs)\n",
    "    std_pv = exp(-r * T) * std(payoffs)\n",
    "    return (mean_pv, std_pv)\n",
    "end"
   ]
  },
  {
   "cell_type": "code",
   "execution_count": 8,
   "metadata": {},
   "outputs": [
    {
     "name": "stdout",
     "output_type": "stream",
     "text": [
      "Present Value: 7.0657811973786275\n",
      "Standard Deviation: 12.397851604560513\n",
      "Abs.Err.: 0.012397851604560512\n"
     ]
    }
   ],
   "source": [
    "# オプション価格の計算\n",
    "localindex_v = [100 for _ in 1:2d]\n",
    "mean_pv, std_pv = calculate_option_price(T, r, K, d, S0, stock0, localindex_v, nPath, σs, corrMat)\n",
    "println(\"Present Value: \", mean_pv)\n",
    "println(\"Standard Deviation: \", std_pv)\n",
    "println(\"Abs.Err.: \", std_pv/sqrt(nPath))\n",
    "#pv = calculate_option_price(T, r, K, d, S0, localindex, nPath, σs, corrMat)\n",
    "#println(pv)\n",
    ";"
   ]
  },
  {
   "cell_type": "code",
   "execution_count": 13,
   "metadata": {},
   "outputs": [
    {
     "name": "stdout",
     "output_type": "stream",
     "text": [
      "平均(mean_pv / std_pv): 0.0006936873303209204\n"
     ]
    }
   ],
   "source": [
    "using Statistics, Random\n",
    "\n",
    "n_trials = 100\n",
    "price = Float64[]\n",
    "err = Float64[]\n",
    "\n",
    "for _ in 1:n_trials\n",
    "    # 100個のランダムなlocalindex_vを作成（2d要素、各要素は例えば 1〜200 の範囲）\n",
    "    localindex_v = [rand(1:100) for _ in 1:2d]\n",
    "    \n",
    "    mean_pv, std_pv = calculate_option_price(T, r, K, d, S0, stock0, localindex_v, nPath, σs, corrMat)\n",
    "    \n",
    "    #if std_pv != 0.0\n",
    "    #    push!(ratios, mean_pv / std_pv)\n",
    "    #end\n",
    "    push!(price, mean_pv)\n",
    "    push!(err, std_pv /sqrt(nPath) )\n",
    "end\n",
    "\n",
    "# 平均値を出力\n",
    "avg_ratio = mean(err ./ maximum(price))\n",
    "println(\"平均(mean_pv / std_pv): \", avg_ratio)\n"
   ]
  },
  {
   "cell_type": "code",
   "execution_count": 16,
   "metadata": {},
   "outputs": [
    {
     "data": {
      "text/plain": [
       "0.001"
      ]
     },
     "metadata": {},
     "output_type": "display_data"
    }
   ],
   "source": [
    "tol = 0.0006936873303209204\n",
    "tol = 1.0 * 1e-3"
   ]
  },
  {
   "cell_type": "code",
   "execution_count": 28,
   "metadata": {},
   "outputs": [
    {
     "data": {
      "text/plain": [
       "rand_inner (generic function with 1 method)"
      ]
     },
     "metadata": {},
     "output_type": "display_data"
    }
   ],
   "source": [
    "function generate_random_combinations(len, d, num_samples)\n",
    "    Random.seed!(1234)\n",
    "\n",
    "    possible_values = collect(1:len)\n",
    "    random_combinations = Vector{Int}[]\n",
    "    \n",
    "    for _ in 1:num_samples\n",
    "        combination = rand(possible_values, d)\n",
    "        push!(random_combinations, combination)\n",
    "    end\n",
    "    \n",
    "    return random_combinations\n",
    "end\n",
    "\n",
    "\n",
    "# Option pricing taking random combinations of parameters\n",
    "function rand_inner(T, r, K, d, S0, stock0, nPath, σs, corrMat, len, num_samples, random_combinations)\n",
    "    #random_combinations = generate_random_combinations(len, d, num_samples)\n",
    "    #random_combinations = [[i, 2, 2, 2, 2] for i in 1:len]\n",
    "    results = Vector{ComplexF64}()\n",
    "    for i in 1:num_samples\n",
    "        ind = random_combinations[i]\n",
    "        #indices = ttog.indices_1d_to_2d(localindex, 100)\n",
    "        localindex_v = ttog.indices_1d_to_2d(ind, 100)\n",
    "        #@show localindex_v\n",
    "        #localindex_v = ind\n",
    "        #inner_ = inner_p(d, ind, M_phi, M_v)\n",
    "        #result = (( η^d ) * exp(-r * (T - t)) * inner_) / ((2 * π) ^ d)\n",
    "        result, err = calculate_option_price(T, r, K, d, S0, stock0, localindex_v, nPath, σs, corrMat)\n",
    "        push!(results, result)\n",
    "    end\n",
    "    return results, random_combinations\n",
    "end"
   ]
  },
  {
   "cell_type": "code",
   "execution_count": 29,
   "metadata": {},
   "outputs": [
    {
     "data": {
      "text/plain": [
       "10000"
      ]
     },
     "metadata": {},
     "output_type": "display_data"
    }
   ],
   "source": [
    "num_samples = 100  # Number of parameter combinations\n",
    "len\n"
   ]
  },
  {
   "cell_type": "code",
   "execution_count": 30,
   "metadata": {},
   "outputs": [],
   "source": [
    "random_combinations = generate_random_combinations(len, d, num_samples);"
   ]
  },
  {
   "cell_type": "code",
   "execution_count": 31,
   "metadata": {},
   "outputs": [
    {
     "ename": "UndefVarError",
     "evalue": "UndefVarError: `ttog` not defined in `Main`\nSuggestion: check for spelling errors or missing imports.",
     "output_type": "error",
     "traceback": [
      "UndefVarError: `ttog` not defined in `Main`\n",
      "Suggestion: check for spelling errors or missing imports.\n",
      "\n",
      "Stacktrace:\n",
      " [1] rand_inner(T::Float64, r::Float64, K::Float64, d::Int64, S0::Vector{Int64}, stock0::Vector{Float64}, nPath::Int64, σs::Vector{Float64}, corrMat::Matrix{Float64}, len::Int64, num_samples::Int64, random_combinations::Vector{Vector{Int64}})\n",
      "   @ Main ~/Documents/Research/post-doc/Tensor_FixedSeedMC/notebook/multi-asset/Europian_min_op/MC/jl_notebook_cell_df34fa98e69747e1a8f8a730347b8e2f_X13sZmlsZQ==.jl:24\n",
      " [2] top-level scope\n",
      "   @ ~/Documents/Research/post-doc/Tensor_FixedSeedMC/notebook/multi-asset/Europian_min_op/MC/jl_notebook_cell_df34fa98e69747e1a8f8a730347b8e2f_X16sZmlsZQ==.jl:1"
     ]
    }
   ],
   "source": [
    "results, combinations = rand_inner(T, r, K, d, S0, stock0, nPath, σs, corrMat, len, num_samples, random_combinations)\n",
    "#results, combinations = rand_inner(T, r, K, d, S0, stock0, localindex_v, nPath, σs, reordered_corrMat, len, num_samples, random_combinations)\n",
    "\n",
    "mc = real(results)\n",
    "#JLD2.@save \"vol&stock0_mc_d5_50000000_const_extended.jld2\" mc\n",
    "mc"
   ]
  },
  {
   "cell_type": "code",
   "execution_count": 15,
   "metadata": {},
   "outputs": [
    {
     "ename": "UndefVarError",
     "evalue": "UndefVarError: `mc` not defined in `Main`\nSuggestion: check for spelling errors or missing imports.",
     "output_type": "error",
     "traceback": [
      "UndefVarError: `mc` not defined in `Main`\n",
      "Suggestion: check for spelling errors or missing imports.\n"
     ]
    }
   ],
   "source": [
    "mc"
   ]
  },
  {
   "cell_type": "code",
   "execution_count": 16,
   "metadata": {},
   "outputs": [
    {
     "ename": "LoadError",
     "evalue": "LoadError: UndefVarError: `JLD2` not defined in `Main`\nSuggestion: check for spelling errors or missing imports.\nin expression starting at /Users/sakurairihito/Documents/Research/post-doc/Tensor_FixedSeedMC/notebook/multi-asset/Europian_min_op/MC/jl_notebook_cell_df34fa98e69747e1a8f8a730347b8e2f_X21sZmlsZQ==.jl:3",
     "output_type": "error",
     "traceback": [
      "LoadError: UndefVarError: `JLD2` not defined in `Main`\n",
      "Suggestion: check for spelling errors or missing imports.\n",
      "in expression starting at /Users/sakurairihito/Documents/Research/post-doc/Tensor_FixedSeedMC/notebook/multi-asset/Europian_min_op/MC/jl_notebook_cell_df34fa98e69747e1a8f8a730347b8e2f_X21sZmlsZQ==.jl:3\n"
     ]
    }
   ],
   "source": [
    "#JLD2.@save \"vol&stock0_mc_d5_50000000_rand_reordered.jld2\" mc\n",
    "#JLD2.@save \"vol&stock0_mc_d5_50000000_rand_cheby.jld2\" mc\n",
    "JLD2.@save \"vol&stock0_mc_d5_100000000_const_noise_cheby_gr100.jld2\" mc"
   ]
  }
 ],
 "metadata": {
  "kernelspec": {
   "display_name": "Julia 1.11.2",
   "language": "julia",
   "name": "julia-1.11"
  },
  "language_info": {
   "file_extension": ".jl",
   "mimetype": "application/julia",
   "name": "julia",
   "version": "1.11.2"
  }
 },
 "nbformat": 4,
 "nbformat_minor": 2
}
