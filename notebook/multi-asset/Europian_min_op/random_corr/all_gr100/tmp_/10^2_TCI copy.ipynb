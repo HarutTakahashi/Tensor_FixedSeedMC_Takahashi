{
 "cells": [
  {
   "cell_type": "code",
   "execution_count": 42,
   "metadata": {},
   "outputs": [],
   "source": [
    "using PyCall\n",
    "using Statistics\n",
    "using LinearAlgebra\n",
    "using Random\n",
    "using Distributions\n",
    "using TensorCrossInterpolation\n",
    "import TensorCrossInterpolation as TCI\n",
    "using JLD2\n",
    "using Tensor_FixedSeedMC\n",
    "import Tensor_FixedSeedMC as TCIMC\n",
    "\n",
    "np = pyimport(\"numpy\")\n",
    "@pyimport tf_quant_finance as tff\n",
    "@pyimport tensorflow as tf\n"
   ]
  },
  {
   "cell_type": "code",
   "execution_count": 50,
   "metadata": {},
   "outputs": [
    {
     "data": {
      "text/plain": [
       "calculate_option_price (generic function with 1 method)"
      ]
     },
     "metadata": {},
     "output_type": "display_data"
    }
   ],
   "source": [
    "# 満期・金利・行使価格など\n",
    "T = 1.0               # 満期\n",
    "r = 0.01              # 無リスク金利\n",
    "K = 100.0             # 行使価格\n",
    "d = 5                 # 原資産数\n",
    "nPath = 10           # モンテカルロパス数\n",
    "S0 = fill(100, d)     # 原資産の初期値ベクトル\n",
    "seed = 1234\n",
    "\n",
    "function chebyshev_lobatto_nodes(n::Int, a::Real, b::Real)\n",
    "    # [-1,1] のチェビシェフ-ロバット節点 → [a,b] へ写像\n",
    "    x_standard = [cos(π * (n - 1 - i) / (n - 1)) for i in 0:n-1]\n",
    "    x_scaled = 0.5 * (b - a) .* (x_standard .+ 1) .+ a\n",
    "    return x_scaled, x_standard\n",
    "end\n",
    "\n",
    "num_nodes = 100\n",
    "σs, _ = chebyshev_lobatto_nodes(num_nodes, 0.15, 0.25)    # ボラティリティグリッド\n",
    "stock0, _ = chebyshev_lobatto_nodes(num_nodes, 90, 120)   # 初期株価グリッド\n",
    "\n",
    "corrMat = [\n",
    "    1.0      0.303659  0.505532  0.719655  0.728832;\n",
    "    0.303659 1.0      0.401077  0.515272  0.178203;\n",
    "    0.505532 0.401077 1.0      0.132542  0.722767;\n",
    "    0.719655 0.515272 0.132542 1.0      0.394723;\n",
    "    0.728832 0.178203 0.722767 0.394723  1.0\n",
    "]\n",
    "\n",
    "function calculate_option_price(\n",
    "    T::Float64, r::Float64, K::Float64, d::Int, S0::Vector{Int}, stock0::Vector{Float64},\n",
    "    localindex_v::Vector{Int}, nPath::Int, σs::Vector{Float64}, corrMat\n",
    ")::Tuple{Float64, Float64}\n",
    "    # ボラリティ、初期株価の組み合わせを抽出\n",
    "    vols = [σs[i] for i in localindex_v[1:2:2*d]]\n",
    "    S0s = [stock0[i] for i in localindex_v[2:2:2*d]]\n",
    "\n",
    "    np.random.seed(seed)  # numpyのシードを固定\n",
    "    tf.random.set_seed(seed)  # tensorflowのシードを固定\n",
    "    \n",
    "    process = tff.models.MultivariateGeometricBrownianMotion(\n",
    "        dim=d,\n",
    "        means=fill(r, d),\n",
    "        volatilities=vols,\n",
    "        corr_matrix=corrMat)\n",
    "    \n",
    "    paths = process.sample_paths(\n",
    "        times=[T],\n",
    "        initial_state=S0s,\n",
    "        random_type=tff.math.random.RandomType.PSEUDO,\n",
    "        seed = seed,\n",
    "        num_samples=nPath\n",
    "    ).numpy()\n",
    "    \n",
    "    payoffs = max.(minimum(paths[:, 1, :], dims=2) .- K, 0.0)\n",
    "    mean_pv = exp(-r * T) * mean(payoffs)\n",
    "    std_pv = exp(-r * T) * std(payoffs)\n",
    "    return (mean_pv, std_pv)\n",
    "end\n"
   ]
  },
  {
   "cell_type": "code",
   "execution_count": 51,
   "metadata": {},
   "outputs": [
    {
     "name": "stdout",
     "output_type": "stream",
     "text": [
      "Present Value: 6.16224477441282\n",
      "Standard Deviation: 9.312806162122191\n",
      "Abs.Err.: 2.944967887995743\n"
     ]
    }
   ],
   "source": [
    "# 各資産ともグリッドの最大値を使う場合\n",
    "localindex_v = [100 for _ in 1:2d]\n",
    "\n",
    "mean_pv, std_pv = calculate_option_price(T, r, K, d, S0, stock0, localindex_v, nPath, σs, corrMat)\n",
    "println(\"Present Value: \", mean_pv)\n",
    "println(\"Standard Deviation: \", std_pv)\n",
    "println(\"Abs.Err.: \", std_pv / sqrt(nPath))\n"
   ]
  },
  {
   "cell_type": "code",
   "execution_count": null,
   "metadata": {},
   "outputs": [],
   "source": [
    "using Random\n",
    "\n",
    "d = 5\n",
    "nPath = 100\n",
    "num_grid = 100\n",
    "\n",
    "# 誤差を記録する配列\n",
    "abs_errors = Float64[]\n",
    "\n",
    "Random.seed!(seed)\n",
    "for _ in 1:100\n",
    "    # [σ1, S0_1, σ2, S0_2, ..., σd, S0_d] をランダムに生成\n",
    "    localindex_v = [rand(1:num_grid) for _ in 1:2d]\n",
    "    mean_pv, std_pv = calculate_option_price(T, r, K, d, S0, stock0, localindex_v, nPath, σs, corrMat)\n",
    "    abs_err = std_pv / sqrt(nPath)\n",
    "    push!(abs_errors, abs_err)\n",
    "end\n",
    "\n",
    "println(\"Mean Abs.Err.: \", mean(abs_errors))\n",
    "println(\"Max  Abs.Err.: \", maximum(abs_errors))\n"
   ]
  },
  {
   "cell_type": "code",
   "execution_count": 53,
   "metadata": {},
   "outputs": [
    {
     "data": {
      "text/plain": [
       "tci_oneshot (generic function with 1 method)"
      ]
     },
     "metadata": {},
     "output_type": "display_data"
    }
   ],
   "source": [
    "abo(localindex_v) = calculate_option_price(T, r, K, d, S0, stock0, localindex_v, nPath, σs, corrMat)[1]\n",
    "localdims_v = fill(num_nodes, 2d)\n",
    "firstpivot_v = rand(1:num_nodes, 2d)\n",
    "phi = TCI.CachedFunction{Float64}(abo, localdims_v)\n",
    "\n",
    "\n",
    "# TCIワンショット補間関数\n",
    "function tci_oneshot(func, d, localdims, firstpivot, tol)\n",
    "    BLAS.set_num_threads(4)\n",
    "    for _ in 1:100\n",
    "        p = TCI.optfirstpivot(func, localdims, firstpivot)\n",
    "        if abs(func(p)) > abs(func(firstpivot))\n",
    "            firstpivot = p\n",
    "        end\n",
    "    end\n",
    "    qtt, ranks, errors = TCI.crossinterpolate2(Float64, func, localdims, [firstpivot],\n",
    "                                                  tolerance=tol, maxiter=6, verbosity=1,\n",
    "                                                  loginterval=1, pivotsearch=:rook, maxbonddim=30)\n",
    "    return qtt, errors\n",
    "end"
   ]
  },
  {
   "cell_type": "code",
   "execution_count": null,
   "metadata": {},
   "outputs": [],
   "source": [
    "tol_mc = 1e-3\n",
    "tol = tol_mc\n",
    "\n",
    "tci_time = @elapsed begin\n",
    "    tt_tci, errors_asianbarrier = tci_oneshot(phi, d, localdims_v, firstpivot_v, tol)\n",
    "end"
   ]
  },
  {
   "cell_type": "code",
   "execution_count": 36,
   "metadata": {},
   "outputs": [
    {
     "data": {
      "text/plain": [
       "rand_inner (generic function with 1 method)"
      ]
     },
     "metadata": {},
     "output_type": "display_data"
    }
   ],
   "source": [
    "function generate_random_combinations(len, d, num_samples)\n",
    "    Random.seed!(1234)\n",
    "\n",
    "    possible_values = collect(1:len)\n",
    "    random_combinations = Vector{Int}[]\n",
    "    \n",
    "    for _ in 1:num_samples\n",
    "        combination = rand(possible_values, d)\n",
    "        push!(random_combinations, combination)\n",
    "    end\n",
    "    \n",
    "    return random_combinations\n",
    "end\n",
    "\n",
    "\n",
    "# Option pricing taking random combinations of parameters\n",
    "function rand_inner(T, r, K, d, S0, stock0, nPath, σs, corrMat, len, num_samples, random_combinations)\n",
    "    results = Vector{ComplexF64}()\n",
    "    for i in 1:num_samples\n",
    "        ind = random_combinations[i]\n",
    "        localindex_v = ttog.indices_1d_to_2d(ind, 100)\n",
    "        result, err = calculate_option_price(T, r, K, d, S0, stock0, localindex_v, nPath, σs, corrMat)\n",
    "        push!(results, result)\n",
    "    end\n",
    "    return results, random_combinations\n",
    "end"
   ]
  },
  {
   "cell_type": "code",
   "execution_count": 37,
   "metadata": {},
   "outputs": [
    {
     "ename": "UndefVarError",
     "evalue": "UndefVarError: `len` not defined in `Main`\nSuggestion: check for spelling errors or missing imports.",
     "output_type": "error",
     "traceback": [
      "UndefVarError: `len` not defined in `Main`\n",
      "Suggestion: check for spelling errors or missing imports.\n"
     ]
    }
   ],
   "source": [
    "num_samples = 100  # Number of parameter combinations\n",
    "len"
   ]
  },
  {
   "cell_type": "code",
   "execution_count": 38,
   "metadata": {},
   "outputs": [
    {
     "ename": "UndefVarError",
     "evalue": "UndefVarError: `len` not defined in `Main`\nSuggestion: check for spelling errors or missing imports.",
     "output_type": "error",
     "traceback": [
      "UndefVarError: `len` not defined in `Main`\n",
      "Suggestion: check for spelling errors or missing imports.\n",
      "\n",
      "Stacktrace:\n",
      " [1] top-level scope\n",
      "   @ ~/Documents/Research/post-doc/Tensor_FixedSeedMC/notebook/multi-asset/Europian_min_op/random_corr/all_gr100/jl_notebook_cell_df34fa98e69747e1a8f8a730347b8e2f_X11sZmlsZQ==.jl:1"
     ]
    }
   ],
   "source": [
    "random_combinations = generate_random_combinations(len, d, num_samples);"
   ]
  },
  {
   "cell_type": "code",
   "execution_count": 39,
   "metadata": {},
   "outputs": [
    {
     "ename": "UndefVarError",
     "evalue": "UndefVarError: `len` not defined in `Main`\nSuggestion: check for spelling errors or missing imports.",
     "output_type": "error",
     "traceback": [
      "UndefVarError: `len` not defined in `Main`\n",
      "Suggestion: check for spelling errors or missing imports.\n",
      "\n",
      "Stacktrace:\n",
      " [1] top-level scope\n",
      "   @ ~/Documents/Research/post-doc/Tensor_FixedSeedMC/notebook/multi-asset/Europian_min_op/random_corr/all_gr100/jl_notebook_cell_df34fa98e69747e1a8f8a730347b8e2f_X12sZmlsZQ==.jl:1"
     ]
    }
   ],
   "source": [
    "results, combinations = rand_inner(T, r, K, d, S0, stock0, nPath, σs, corrMat, len, num_samples, random_combinations)\n",
    "#results, combinations = rand_inner(T, r, K, d, S0, stock0, localindex_v, nPath, σs, reordered_corrMat, len, num_samples, random_combinations)\n",
    "\n",
    "mc = real(results)\n",
    "#JLD2.@save \"vol&stock0_mc_d5_50000000_const_extended.jld2\" mc\n",
    "mc"
   ]
  },
  {
   "cell_type": "code",
   "execution_count": 40,
   "metadata": {},
   "outputs": [
    {
     "ename": "UndefVarError",
     "evalue": "UndefVarError: `mc` not defined in `Main`\nSuggestion: check for spelling errors or missing imports.",
     "output_type": "error",
     "traceback": [
      "UndefVarError: `mc` not defined in `Main`\n",
      "Suggestion: check for spelling errors or missing imports.\n"
     ]
    }
   ],
   "source": [
    "mc"
   ]
  },
  {
   "cell_type": "code",
   "execution_count": 41,
   "metadata": {},
   "outputs": [
    {
     "ename": "UndefVarError",
     "evalue": "UndefVarError: `mc` not defined in `Main`\nSuggestion: check for spelling errors or missing imports.",
     "output_type": "error",
     "traceback": [
      "UndefVarError: `mc` not defined in `Main`\n",
      "Suggestion: check for spelling errors or missing imports.\n",
      "\n",
      "Stacktrace:\n",
      " [1] macro expansion\n",
      "   @ ~/.julia/packages/JLD2/NKGUi/src/loadsave.jl:72 [inlined]\n",
      " [2] top-level scope\n",
      "   @ ~/Documents/Research/post-doc/Tensor_FixedSeedMC/notebook/multi-asset/Europian_min_op/random_corr/all_gr100/jl_notebook_cell_df34fa98e69747e1a8f8a730347b8e2f_X14sZmlsZQ==.jl:3"
     ]
    }
   ],
   "source": [
    "#JLD2.@save \"vol&stock0_mc_d5_50000000_rand_reordered.jld2\" mc\n",
    "#JLD2.@save \"vol&stock0_mc_d5_50000000_rand_cheby.jld2\" mc\n",
    "JLD2.@save \"vol&stock0_mc_d5_100000000_const_noise_cheby_gr100.jld2\" mc"
   ]
  }
 ],
 "metadata": {
  "kernelspec": {
   "display_name": "Julia 1.11.2",
   "language": "julia",
   "name": "julia-1.11"
  },
  "language_info": {
   "file_extension": ".jl",
   "mimetype": "application/julia",
   "name": "julia",
   "version": "1.11.2"
  }
 },
 "nbformat": 4,
 "nbformat_minor": 2
}
