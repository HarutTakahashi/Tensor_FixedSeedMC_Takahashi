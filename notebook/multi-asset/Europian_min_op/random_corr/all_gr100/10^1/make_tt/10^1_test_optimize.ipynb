{
 "cells": [
  {
   "cell_type": "code",
   "execution_count": 6,
   "metadata": {},
   "outputs": [],
   "source": [
    "using PyCall\n",
    "using Statistics\n",
    "using LinearAlgebra\n",
    "using Random\n",
    "using Distributions\n",
    "using TensorCrossInterpolation\n",
    "import TensorCrossInterpolation as TCI\n",
    "using JLD2\n",
    "using Tensor_FixedSeedMC\n",
    "import Tensor_FixedSeedMC as TCIMC\n",
    "\n",
    "np = pyimport(\"numpy\")\n",
    "@pyimport tf_quant_finance as tff\n",
    "@pyimport tensorflow as tf\n"
   ]
  },
  {
   "cell_type": "code",
   "execution_count": 7,
   "metadata": {},
   "outputs": [
    {
     "data": {
      "text/plain": [
       "calculate_option_price (generic function with 1 method)"
      ]
     },
     "metadata": {},
     "output_type": "display_data"
    }
   ],
   "source": [
    "# 満期・金利・行使価格など\n",
    "T = 1.0               # 満期\n",
    "r = 0.01              # 無リスク金利\n",
    "K = 100.0             # 行使価格\n",
    "d = 5                 # 原資産数\n",
    "nPath = 10^1           # モンテカルロパス数\n",
    "S0 = fill(100, d)     # 原資産の初期値ベクトル\n",
    "seed = 1234\n",
    "\n",
    "function chebyshev_lobatto_nodes(n::Int, a::Real, b::Real)\n",
    "    # [-1,1] のチェビシェフ-ロバット節点 → [a,b] へ写像\n",
    "    x_standard = [cos(π * (n - 1 - i) / (n - 1)) for i in 0:n-1]\n",
    "    x_scaled = 0.5 * (b - a) .* (x_standard .+ 1) .+ a\n",
    "    return x_scaled, x_standard\n",
    "end\n",
    "\n",
    "num_nodes = 100\n",
    "σs, _ = chebyshev_lobatto_nodes(num_nodes, 0.15, 0.25)    # ボラティリティグリッド\n",
    "stock0, _ = chebyshev_lobatto_nodes(num_nodes, 90, 120)   # 初期株価グリッド\n",
    "\n",
    "corrMat = [\n",
    "    1.0      0.303659  0.505532  0.719655  0.728832;\n",
    "    0.303659 1.0      0.401077  0.515272  0.178203;\n",
    "    0.505532 0.401077 1.0      0.132542  0.722767;\n",
    "    0.719655 0.515272 0.132542 1.0      0.394723;\n",
    "    0.728832 0.178203 0.722767 0.394723  1.0\n",
    "]\n",
    "\n",
    "function calculate_option_price(\n",
    "    T::Float64, r::Float64, K::Float64, d::Int, S0::Vector{Int}, stock0::Vector{Float64},\n",
    "    localindex_v::Vector{Int}, nPath::Int, σs::Vector{Float64}, corrMat\n",
    ")::Tuple{Float64, Float64}\n",
    "    # ボラリティ、初期株価の組み合わせを抽出\n",
    "    vols = [σs[i] for i in localindex_v[1:2:2*d]]\n",
    "    S0s = [stock0[i] for i in localindex_v[2:2:2*d]]\n",
    "\n",
    "    np.random.seed(seed)  # numpyのシードを固定\n",
    "    tf.random.set_seed(seed)  # tensorflowのシードを固定\n",
    "    \n",
    "    process = tff.models.MultivariateGeometricBrownianMotion(\n",
    "        dim=d,\n",
    "        means=fill(r, d),\n",
    "        volatilities=vols,\n",
    "        corr_matrix=corrMat)\n",
    "    \n",
    "    paths = process.sample_paths(\n",
    "        times=[T],\n",
    "        initial_state=S0s,\n",
    "        random_type=tff.math.random.RandomType.PSEUDO,\n",
    "        seed = seed,\n",
    "        num_samples=nPath\n",
    "    ).numpy()\n",
    "    \n",
    "    payoffs = max.(minimum(paths[:, 1, :], dims=2) .- K, 0.0)\n",
    "    mean_pv = exp(-r * T) * mean(payoffs)\n",
    "    std_pv = exp(-r * T) * std(payoffs)\n",
    "    return (mean_pv, std_pv)\n",
    "end\n"
   ]
  },
  {
   "cell_type": "code",
   "execution_count": 8,
   "metadata": {},
   "outputs": [
    {
     "data": {
      "text/plain": [
       "calc_itpl_point_errs (generic function with 1 method)"
      ]
     },
     "metadata": {},
     "output_type": "display_data"
    }
   ],
   "source": [
    "# struct to count number of function calls and sampling points\n",
    "mutable struct WrapFuncFloat <: Function\n",
    "    f::Function\n",
    "    #count::Int64\n",
    "    itpl_point_dict::Dict{Vector{Int}, Float64}\n",
    "    function WrapFuncFloat(f::Function)::WrapFuncFloat\n",
    "        new(f, Dict{Vector{Int}, Float64}())\n",
    "    end\n",
    "end\n",
    "\n",
    "\n",
    "\n",
    "function (w::WrapFuncFloat)(bins::Vector{Int})::Float64\n",
    "    if !haskey(w.itpl_point_dict, bins)\n",
    "        # FIXED: use deepcopy\n",
    "        w.itpl_point_dict[deepcopy(bins)] = w.f(bins)\n",
    "    end\n",
    "    return w.itpl_point_dict[bins]\n",
    "end\n",
    ";\n",
    "\n",
    "function mps2multivec(mps::TCI.TensorTrain)::Vector{Array{Float64, 3}}\n",
    "    links = linkinds(mps)\n",
    "    sites = siteinds(mps)\n",
    "    N = length(mps)\n",
    "    res = []\n",
    "    for i in 1:N\n",
    "        if i == 1\n",
    "            push!(res, reshape(array(mps[1], sites[1], links[1]), 1, ITensors.dim(sites[1]), ITensors.dim(links[1])))\n",
    "        elseif i == N\n",
    "            push!(res, reshape(array(mps[i], links[end], sites[i]), ITensors.dim(links[end]), ITensors.dim(sites[i]), 1))\n",
    "        else\n",
    "            push!(res, array(mps[i], links[i-1], sites[i], links[i]))\n",
    "        end\n",
    "    end\n",
    "    return res\n",
    "end\n",
    "\n",
    "function calc_itpl_point_errs(itpl_point_dict, fdata)\n",
    "    res = 0\n",
    "    for (key, value) in itpl_point_dict\n",
    "        idx = Q.quantics_to_index(key)[1]\n",
    "        res += abs(fdata[idx] - value)\n",
    "    end\n",
    "    return res\n",
    "end\n"
   ]
  },
  {
   "cell_type": "code",
   "execution_count": 9,
   "metadata": {},
   "outputs": [
    {
     "name": "stdout",
     "output_type": "stream",
     "text": [
      "Present Value: 6.16224477441282\n",
      "Standard Deviation: 9.312806162122191\n",
      "Abs.Err.: 2.944967887995743\n"
     ]
    }
   ],
   "source": [
    "# 各資産ともグリッドの最大値を使う場合\n",
    "localindex_v = [100 for _ in 1:2d]\n",
    "\n",
    "mean_pv, std_pv = calculate_option_price(T, r, K, d, S0, stock0, localindex_v, nPath, σs, corrMat)\n",
    "println(\"Present Value: \", mean_pv)\n",
    "println(\"Standard Deviation: \", std_pv)\n",
    "println(\"Abs.Err.: \", std_pv / sqrt(nPath))\n"
   ]
  },
  {
   "cell_type": "code",
   "execution_count": 10,
   "metadata": {},
   "outputs": [
    {
     "name": "stdout",
     "output_type": "stream",
     "text": [
      "Mean Abs.Err.: 1.0704463332803593\n",
      "Max  Abs.Err.: 2.680704658749252\n"
     ]
    }
   ],
   "source": [
    "using Random\n",
    "\n",
    "d = 5\n",
    "num_grid = 100\n",
    "\n",
    "# 誤差を記録する配列\n",
    "abs_errors = Float64[]\n",
    "\n",
    "Random.seed!(seed)\n",
    "for _ in 1:100\n",
    "    # [σ1, S0_1, σ2, S0_2, ..., σd, S0_d] をランダムに生成\n",
    "    localindex_v = [rand(1:num_grid) for _ in 1:2d]\n",
    "    mean_pv, std_pv = calculate_option_price(T, r, K, d, S0, stock0, localindex_v, nPath, σs, corrMat)\n",
    "    abs_err = std_pv / sqrt(nPath)\n",
    "    push!(abs_errors, abs_err)\n",
    "end\n",
    "\n",
    "println(\"Mean Abs.Err.: \", mean(abs_errors))\n",
    "println(\"Max  Abs.Err.: \", maximum(abs_errors))\n"
   ]
  },
  {
   "cell_type": "code",
   "execution_count": 18,
   "metadata": {},
   "outputs": [
    {
     "data": {
      "text/plain": [
       "(::TensorCrossInterpolation.CachedFunction{Float64, UInt128}) (generic function with 3 methods)"
      ]
     },
     "metadata": {},
     "output_type": "display_data"
    }
   ],
   "source": [
    "abo_(localindex_v) = calculate_option_price(T, r, K, d, S0, stock0, localindex_v, nPath, σs, corrMat)[1]\n",
    "localdims_v = fill(num_nodes, 2d)\n",
    "Random.seed!(1234)\n",
    "firstpivot_v = rand(1:num_nodes, 2d)\n",
    "abo = WrapFuncFloat(abo_) # \n",
    "phi = TCI.CachedFunction{Float64}(abo, localdims_v)\n",
    "\n",
    "phi = TCI.CachedFunction{Float64}(abo, localdims_v)\n",
    "\n",
    "\n"
   ]
  },
  {
   "cell_type": "code",
   "execution_count": 19,
   "metadata": {},
   "outputs": [
    {
     "data": {
      "text/plain": [
       "tci_oneshot (generic function with 1 method)"
      ]
     },
     "metadata": {},
     "output_type": "display_data"
    }
   ],
   "source": [
    "# TCIワンショット補間関数\n",
    "function tci_oneshot(func, d, localdims, firstpivot, tol)\n",
    "    BLAS.set_num_threads(4)\n",
    "    for _ in 1:100\n",
    "        p = TCI.optfirstpivot(func, localdims, firstpivot)\n",
    "        if abs(func(p)) > abs(func(firstpivot))\n",
    "            firstpivot = p\n",
    "        end\n",
    "    end\n",
    "    qtt, ranks, errors = TCI.crossinterpolate2(Float64, func, localdims, [firstpivot],\n",
    "                                                  tolerance=tol, maxiter=1, verbosity=1,\n",
    "                                                  loginterval=1, pivotsearch=:rook, maxbonddim=1)\n",
    "    return qtt, errors\n",
    "end"
   ]
  },
  {
   "cell_type": "code",
   "execution_count": 20,
   "metadata": {},
   "outputs": [
    {
     "name": "stdout",
     "output_type": "stream",
     "text": [
      "iteration = 1, rank = 1, error= 0.0, maxsamplevalue= 9.316950965038105, nglobalpivot=0\n"
     ]
    },
    {
     "data": {
      "text/plain": [
       "152.138707792"
      ]
     },
     "metadata": {},
     "output_type": "display_data"
    }
   ],
   "source": [
    "tol_mc = 2.0\n",
    "tol = tol_mc\n",
    "\n",
    "tci_time = @elapsed begin\n",
    "    tt_tci, errors_asianbarrier = tci_oneshot(phi, d, localdims_v, firstpivot_v, tol)\n",
    "end"
   ]
  },
  {
   "cell_type": "code",
   "execution_count": 21,
   "metadata": {},
   "outputs": [
    {
     "data": {
      "text/plain": [
       "(::TensorCrossInterpolation.TensorCI2{Float64}) (generic function with 1 method)"
      ]
     },
     "metadata": {},
     "output_type": "display_data"
    }
   ],
   "source": [
    "tt_tci ###"
   ]
  },
  {
   "cell_type": "code",
   "execution_count": 22,
   "metadata": {},
   "outputs": [
    {
     "name": "stderr",
     "output_type": "stream",
     "text": [
      "┌ Warning: LBFGS: not converged to requested tol after 100 iterations and time 1667.89 s: f = 4720.262510481811, ‖∇f‖ = 2.0325e+03\n",
      "└ @ OptimKit /Users/sakurairihito/.julia/packages/OptimKit/G6i79/src/lbfgs.jl:197\n"
     ]
    },
    {
     "data": {
      "text/plain": [
       "(::TensorTrain{Float64, 3}) (generic function with 1 method)"
      ]
     },
     "metadata": {},
     "output_type": "display_data"
    }
   ],
   "source": [
    "tt0 = TCI.TensorTrain(tt_tci)\n",
    "itpl_point_dict = abo.itpl_point_dict\n",
    "indexsets = sort(collect(keys(itpl_point_dict)))\n",
    "vals = [itpl_point_dict[i] for i in indexsets]\n",
    "fit_itr = 100 #\n",
    "ttfit = TCI.TensorTrainFit{Float64}(indexsets, vals, tt0)\n",
    "x0::Vector{Float64} = TCI.flatten(tt0)\n",
    "\n",
    "using Zygote\n",
    "using OptimKit\n",
    "#using OptimKit\n",
    "function loss(x) \n",
    "    ttfit(x)\n",
    "end\n",
    "optimizer = LBFGS(; maxiter=fit_itr, verbosity=1)\n",
    "function loss_and_grad(x)\n",
    "    y, (∇,) = withgradient(loss, x)\n",
    "    return y, ∇\n",
    "end\n",
    "xopt, fs, gs, niter, normgradhistory = optimize(loss_and_grad, x0, optimizer)\n",
    ";\n",
    "\n",
    "ttopt = TCI.TensorTrain{Float64, 3}(TCI.to_tensors(ttfit, xopt))\n",
    "tt_tci = ttopt"
   ]
  },
  {
   "cell_type": "code",
   "execution_count": null,
   "metadata": {},
   "outputs": [
    {
     "ename": "UndefVarError",
     "evalue": "UndefVarError: `tt_tci` not defined in `Main`\nSuggestion: check for spelling errors or missing imports.",
     "output_type": "error",
     "traceback": [
      "UndefVarError: `tt_tci` not defined in `Main`\n",
      "Suggestion: check for spelling errors or missing imports.\n",
      "\n",
      "Stacktrace:\n",
      " [1] macro expansion\n",
      "   @ ~/.julia/packages/JLD2/NKGUi/src/loadsave.jl:72 [inlined]\n",
      " [2] top-level scope\n",
      "   @ ~/Documents/Research/post-doc/Tensor_FixedSeedMC/notebook/multi-asset/Europian_min_op/random_corr/all_gr100/10^1/make_tt/jl_notebook_cell_df34fa98e69747e1a8f8a730347b8e2f_X10sZmlsZQ==.jl:1"
     ]
    }
   ],
   "source": [
    "JLD2.@save \"tt_tci_opt_$nPath\" tt_tci"
   ]
  },
  {
   "cell_type": "code",
   "execution_count": 16,
   "metadata": {},
   "outputs": [
    {
     "ename": "KeyError",
     "evalue": "KeyError: key \"tt_tci\" not found",
     "output_type": "error",
     "traceback": [
      "KeyError: key \"tt_tci\" not found\n",
      "\n",
      "Stacktrace:\n",
      " [1] getindex(g::JLD2.Group{JLD2.JLDFile{JLD2.MmapIO}}, name::String)\n",
      "   @ JLD2 ~/.julia/packages/JLD2/NKGUi/src/groups.jl:96\n",
      " [2] read\n",
      "   @ ~/.julia/packages/JLD2/NKGUi/src/JLD2.jl:348 [inlined]\n",
      " [3] (::var\"#31#32\")(f::JLD2.JLDFile{JLD2.MmapIO})\n",
      "   @ Main ~/.julia/packages/JLD2/NKGUi/src/loadsave.jl:153\n",
      " [4] jldopen(f::Function, args::String; kws::@Kwargs{})\n",
      "   @ JLD2 ~/.julia/packages/JLD2/NKGUi/src/loadsave.jl:4\n",
      " [5] jldopen(f::Function, args::String)\n",
      "   @ JLD2 ~/.julia/packages/JLD2/NKGUi/src/loadsave.jl:1\n",
      " [6] macro expansion\n",
      "   @ ~/.julia/packages/JLD2/NKGUi/src/loadsave.jl:152 [inlined]\n",
      " [7] top-level scope\n",
      "   @ ~/Documents/Research/post-doc/Tensor_FixedSeedMC/notebook/multi-asset/Europian_min_op/random_corr/all_gr100/10^1/make_tt/jl_notebook_cell_df34fa98e69747e1a8f8a730347b8e2f_X11sZmlsZQ==.jl:1"
     ]
    }
   ],
   "source": [
    "JLD2.@load \"tt_tci_$nPath\" tt_tci"
   ]
  },
  {
   "cell_type": "code",
   "execution_count": 17,
   "metadata": {},
   "outputs": [],
   "source": []
  }
 ],
 "metadata": {
  "kernelspec": {
   "display_name": "Julia 1.11.2",
   "language": "julia",
   "name": "julia-1.11"
  },
  "language_info": {
   "file_extension": ".jl",
   "mimetype": "application/julia",
   "name": "julia",
   "version": "1.11.2"
  }
 },
 "nbformat": 4,
 "nbformat_minor": 2
}
