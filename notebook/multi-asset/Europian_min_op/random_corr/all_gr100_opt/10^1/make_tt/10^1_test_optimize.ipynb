{
 "cells": [
  {
   "cell_type": "code",
   "execution_count": null,
   "metadata": {},
   "outputs": [
    {
     "name": "stderr",
     "output_type": "stream",
     "text": [
      "WARNING: redefinition of constant Main.np. This may fail, cause incorrect answers, or produce other errors.\n",
      "┌ Info: Baseline PV = 0.922077512338028,  abs.err = 0.9220775123380279\n",
      "└ @ Main /Users/sakurairihito/Documents/Research/post-doc/Tensor_FixedSeedMC/notebook/multi-asset/Europian_min_op/random_corr/all_gr100_opt/10^1/make_tt/jl_notebook_cell_df34fa98e69747e1a8f8a730347b8e2f_X20sZmlsZQ==.jl:109\n",
      "┌ Info: MC abs.err  mean=0.0526798158402132  max=1.79919023427231\n",
      "└ @ Main /Users/sakurairihito/Documents/Research/post-doc/Tensor_FixedSeedMC/notebook/multi-asset/Europian_min_op/random_corr/all_gr100_opt/10^1/make_tt/jl_notebook_cell_df34fa98e69747e1a8f8a730347b8e2f_X20sZmlsZQ==.jl:112\n"
     ]
    },
    {
     "name": "stdout",
     "output_type": "stream",
     "text": [
      "iteration = 1, rank = 16, error= 0.0, maxsamplevalue= 4.960692240374436, nglobalpivot=1\n",
      "  Rejected 1 global pivots added in the previous iteration, errors are [0.0007366071086800652]\n",
      "iteration = 2, rank = 36, error= 0.0, maxsamplevalue= 4.960692240374436, nglobalpivot=1\n",
      "  Rejected 1 global pivots added in the previous iteration, errors are [0.0038122741491914275]\n",
      "iteration = 3, rank = 52, error= 0.0, maxsamplevalue= 4.960692240374436, nglobalpivot=2\n"
     ]
    },
    {
     "ename": "InterruptException",
     "evalue": "InterruptException:",
     "output_type": "error",
     "traceback": [
      "InterruptException:\n",
      "\n",
      "Stacktrace:\n",
      "  [1] sigatomic_end\n",
      "    @ ./c.jl:146 [inlined]\n",
      "  [2] disable_sigint\n",
      "    @ ./c.jl:169 [inlined]\n",
      "  [3] __pycall!\n",
      "    @ ~/.julia/packages/PyCall/1gn3u/src/pyfncall.jl:42 [inlined]\n",
      "  [4] _pycall!(ret::PyObject, o::PyObject, args::Tuple{}, nargs::Int64, kw::PyObject)\n",
      "    @ PyCall ~/.julia/packages/PyCall/1gn3u/src/pyfncall.jl:29\n",
      "  [5] _pycall!(ret::PyObject, o::PyObject, args::Tuple{}, kwargs::@Kwargs{dim::Int64, means::Vector{Float64}, volatilities::Vector{Float64}, corr_matrix::Matrix{Float64}})\n",
      "    @ PyCall ~/.julia/packages/PyCall/1gn3u/src/pyfncall.jl:11\n",
      "  [6] #_#114\n",
      "    @ ~/.julia/packages/PyCall/1gn3u/src/pyfncall.jl:86 [inlined]\n",
      "  [7] calculate_option_price(T::Float64, r::Float64, K::Float64, d::Int64, idx::Vector{Int64}, σ_grid::Vector{Float64}, S0_grid::Vector{Float64}, ρ::Matrix{Float64}, nPath::Int64, seed::Int64)\n",
      "    @ Main ~/Documents/Research/post-doc/Tensor_FixedSeedMC/notebook/multi-asset/Europian_min_op/random_corr/all_gr100_opt/10^1/make_tt/jl_notebook_cell_df34fa98e69747e1a8f8a730347b8e2f_X16sZmlsZQ==.jl:64\n",
      "  [8] (::var\"#oracle#54\"{Matrix{Float64}, Vector{Float64}, Vector{Float64}, Int64, Int64, Int64, Float64, Float64, Float64})(x::Vector{Int64})\n",
      "    @ Main ~/Documents/Research/post-doc/Tensor_FixedSeedMC/notebook/multi-asset/Europian_min_op/random_corr/all_gr100_opt/10^1/make_tt/jl_notebook_cell_df34fa98e69747e1a8f8a730347b8e2f_X20sZmlsZQ==.jl:115\n",
      "  [9] (::TensorCrossInterpolation.var\"#115#118\"{CachedFunction{Float64, UInt128}, Vector{Int64}})()\n",
      "    @ TensorCrossInterpolation ~/.julia/packages/TensorCrossInterpolation/RnYi9/src/cachedfunction.jl:105\n",
      " [10] get!(default::TensorCrossInterpolation.var\"#115#118\"{CachedFunction{Float64, UInt128}, Vector{Int64}}, h::Dict{UInt128, Float64}, key::UInt128)\n",
      "    @ Base ./dict.jl:458\n",
      " [11] _batcheval_imp_default(f::CachedFunction{Float64, UInt128}, leftindexset::Vector{Vector{Int64}}, rightindexset::Vector{Vector{Int64}}, ::Val{0})\n",
      "    @ TensorCrossInterpolation ~/.julia/packages/TensorCrossInterpolation/RnYi9/src/cachedfunction.jl:104\n",
      " [12] CachedFunction\n",
      "    @ ~/.julia/packages/TensorCrossInterpolation/RnYi9/src/cachedfunction.jl:83 [inlined]\n",
      " [13] _submatrix_batcheval(obj::TensorCrossInterpolation.SubMatrix{Float64}, f::CachedFunction{Float64, UInt128}, irows::Vector{Int64}, icols::Vector{Int64})\n",
      "    @ TensorCrossInterpolation ~/.julia/packages/TensorCrossInterpolation/RnYi9/src/tensorci2.jl:459\n",
      " [14] (::TensorCrossInterpolation.SubMatrix{Float64})(irows::Vector{Int64}, icols::Vector{Int64})\n",
      "    @ TensorCrossInterpolation ~/.julia/packages/TensorCrossInterpolation/RnYi9/src/tensorci2.jl:464\n",
      " [15] arrlu(::Type{Float64}, f::TensorCrossInterpolation.SubMatrix{Float64}, matrixsize::Tuple{Int64, Int64}, I0::Vector{Int64}, J0::Vector{Int64}; maxrank::Int64, reltol::Float64, abstol::Float64, leftorthogonal::Bool, numrookiter::Int64, usebatcheval::Bool)\n",
      "    @ TensorCrossInterpolation ~/.julia/packages/TensorCrossInterpolation/RnYi9/src/matrixlu.jl:258\n",
      " [16] arrlu\n",
      "    @ ~/.julia/packages/TensorCrossInterpolation/RnYi9/src/matrixlu.jl:227 [inlined]\n",
      " [17] rrlu(::Type{Float64}, f::TensorCrossInterpolation.SubMatrix{Float64}, matrixsize::Tuple{Int64, Int64}, I0::Vector{Int64}, J0::Vector{Int64}; pivotsearch::Symbol, kwargs::@Kwargs{reltol::Float64, abstol::Float64, maxrank::Int64, leftorthogonal::Bool, usebatcheval::Bool})\n",
      "    @ TensorCrossInterpolation ~/.julia/packages/TensorCrossInterpolation/RnYi9/src/matrixlu.jl:305\n",
      " [18] rrlu\n",
      "    @ ~/.julia/packages/TensorCrossInterpolation/RnYi9/src/matrixlu.jl:295 [inlined]\n",
      " [19] #MatrixLUCI#56\n",
      "    @ ~/.julia/packages/TensorCrossInterpolation/RnYi9/src/matrixluci.jl:17 [inlined]\n",
      " [20] MatrixLUCI\n",
      "    @ ~/.julia/packages/TensorCrossInterpolation/RnYi9/src/matrixluci.jl:9 [inlined]\n",
      " [21] updatepivots!(tci::TensorCrossInterpolation.TensorCI2{Float64}, b::Int64, f::CachedFunction{Float64, UInt128}, leftorthogonal::Bool; reltol::Float64, abstol::Float64, maxbonddim::Int64, sweepdirection::Symbol, pivotsearch::Symbol, verbosity::Int64, extraIset::Vector{Vector{Int64}}, extraJset::Vector{Vector{Int64}})\n",
      "    @ TensorCrossInterpolation ~/.julia/packages/TensorCrossInterpolation/RnYi9/src/tensorci2.jl:522\n",
      " [22] updatepivots!\n",
      "    @ ~/.julia/packages/TensorCrossInterpolation/RnYi9/src/tensorci2.jl:474 [inlined]\n",
      " [23] sweep2site!(tci::TensorCrossInterpolation.TensorCI2{Float64}, f::CachedFunction{Float64, UInt128}, niter::Int64; iter1::Int64, abstol::Float64, maxbonddim::Int64, sweepstrategy::Symbol, pivotsearch::Symbol, verbosity::Int64, strictlynested::Bool, fillsitetensors::Bool)\n",
      "    @ TensorCrossInterpolation ~/.julia/packages/TensorCrossInterpolation/RnYi9/src/tensorci2.jl:816\n",
      " [24] sweep2site!\n",
      "    @ ~/.julia/packages/TensorCrossInterpolation/RnYi9/src/tensorci2.jl:786 [inlined]\n",
      " [25] optimize!(tci::TensorCrossInterpolation.TensorCI2{Float64}, f::CachedFunction{Float64, UInt128}; tolerance::Float64, pivottolerance::Nothing, maxbonddim::Int64, maxiter::Int64, sweepstrategy::Symbol, pivotsearch::Symbol, verbosity::Int64, loginterval::Int64, normalizeerror::Bool, ncheckhistory::Int64, maxnglobalpivot::Int64, nsearchglobalpivot::Int64, tolmarginglobalsearch::Float64, strictlynested::Bool, checkbatchevaluatable::Bool)\n",
      "    @ TensorCrossInterpolation ~/.julia/packages/TensorCrossInterpolation/RnYi9/src/tensorci2.jl:710\n",
      " [26] crossinterpolate2(::Type{Float64}, f::Function, localdims::Vector{Int64}, initialpivots::Vector{Vector{Int64}}; kwargs::@Kwargs{tolerance::Float64, maxiter::Int64, pivotsearch::Symbol, maxbonddim::Int64, verbosity::Int64, loginterval::Int64})\n",
      "    @ TensorCrossInterpolation ~/.julia/packages/TensorCrossInterpolation/RnYi9/src/tensorci2.jl:909\n",
      " [27] crossinterpolate2\n",
      "    @ ~/.julia/packages/TensorCrossInterpolation/RnYi9/src/tensorci2.jl:901 [inlined]\n",
      " [28] tci_oneshot(f::CachedFunction{Float64, UInt128}, dims::Vector{Int64}, firstpivot::Vector{Int64}, tol::Float64; max_threads::Int64)\n",
      "    @ Main ~/Documents/Research/post-doc/Tensor_FixedSeedMC/notebook/multi-asset/Europian_min_op/random_corr/all_gr100_opt/10^1/make_tt/jl_notebook_cell_df34fa98e69747e1a8f8a730347b8e2f_X20sZmlsZQ==.jl:75\n",
      " [29] tci_oneshot\n",
      "    @ ~/Documents/Research/post-doc/Tensor_FixedSeedMC/notebook/multi-asset/Europian_min_op/random_corr/all_gr100_opt/10^1/make_tt/jl_notebook_cell_df34fa98e69747e1a8f8a730347b8e2f_X20sZmlsZQ==.jl:68 [inlined]\n",
      " [30] main()\n",
      "    @ Main ~/Documents/Research/post-doc/Tensor_FixedSeedMC/notebook/multi-asset/Europian_min_op/random_corr/all_gr100_opt/10^1/make_tt/jl_notebook_cell_df34fa98e69747e1a8f8a730347b8e2f_X20sZmlsZQ==.jl:119\n",
      " [31] eval\n",
      "    @ ./boot.jl:430 [inlined]\n",
      " [32] include_string(mapexpr::typeof(REPL.softscope), mod::Module, code::String, filename::String)\n",
      "    @ Base ./loading.jl:2734\n",
      " [33] #invokelatest#2\n",
      "    @ ./essentials.jl:1055 [inlined]\n",
      " [34] invokelatest\n",
      "    @ ./essentials.jl:1052 [inlined]\n",
      " [35] (::VSCodeServer.var\"#217#218\"{VSCodeServer.NotebookRunCellArguments, String})()\n",
      "    @ VSCodeServer ~/.vscode/extensions/julialang.language-julia-1.146.2/scripts/packages/VSCodeServer/src/serve_notebook.jl:24\n",
      " [36] withpath(f::VSCodeServer.var\"#217#218\"{VSCodeServer.NotebookRunCellArguments, String}, path::String)\n",
      "    @ VSCodeServer ~/.vscode/extensions/julialang.language-julia-1.146.2/scripts/packages/VSCodeServer/src/repl.jl:276\n",
      " [37] notebook_runcell_request(conn::VSCodeServer.JSONRPC.JSONRPCEndpoint{Base.PipeEndpoint, Base.PipeEndpoint, VSCodeServer.JSON.Serializations.StandardSerialization}, params::VSCodeServer.NotebookRunCellArguments, token::VSCodeServer.CancellationTokens.CancellationToken)\n",
      "    @ VSCodeServer ~/.vscode/extensions/julialang.language-julia-1.146.2/scripts/packages/VSCodeServer/src/serve_notebook.jl:13\n",
      " [38] dispatch_msg(x::VSCodeServer.JSONRPC.JSONRPCEndpoint{Base.PipeEndpoint, Base.PipeEndpoint, VSCodeServer.JSON.Serializations.StandardSerialization}, dispatcher::VSCodeServer.JSONRPC.MsgDispatcher, msg::VSCodeServer.JSONRPC.Request)\n",
      "    @ VSCodeServer.JSONRPC ~/.vscode/extensions/julialang.language-julia-1.146.2/scripts/packages/JSONRPC/src/typed.jl:68\n",
      " [39] serve_notebook(pipename::String, debugger_pipename::String, outputchannel_logger::Base.CoreLogging.SimpleLogger; error_handler::var\"#5#10\"{String})\n",
      "    @ VSCodeServer ~/.vscode/extensions/julialang.language-julia-1.146.2/scripts/packages/VSCodeServer/src/serve_notebook.jl:147\n",
      " [40] top-level scope\n",
      "    @ ~/.vscode/extensions/julialang.language-julia-1.146.2/scripts/notebook/notebook.jl:35"
     ]
    }
   ],
   "source": [
    "#!/usr/bin/env julia\n",
    "# ============================================================================\n",
    "#  Five-asset min-basket call\n",
    "#    1. tf-quant-finance Monte-Carlo oracle (via PyCall)\n",
    "#    2. Tensor-cross interpolation  → initial TT\n",
    "#    3. L-BFGS refit (Zygote + OptimKit) → refined TT\n",
    "#\n",
    "#   Julia ≥ 1.10  with packages:\n",
    "#       PyCall Statistics LinearAlgebra Random Distributions\n",
    "#       TensorCrossInterpolation Zygote OptimKit JLD2\n",
    "#       (Python side: tensorflow, tf-quant-finance)\n",
    "# ============================================================================\n",
    "\n",
    "using PyCall, Statistics, LinearAlgebra, Random, Distributions\n",
    "using TensorCrossInterpolation\n",
    "import TensorCrossInterpolation: CachedFunction, optfirstpivot, crossinterpolate2\n",
    "using Zygote, OptimKit, JLD2\n",
    "\n",
    "# ---------------- Python (tf-quant-finance) ----------------\n",
    "const np = pyimport(\"numpy\")\n",
    "@pyimport tf_quant_finance as tff\n",
    "@pyimport tensorflow as tf\n",
    "\n",
    "\n",
    "# ═══════════════════════════════════════════════════════════\n",
    "#  Utility functions\n",
    "# ═══════════════════════════════════════════════════════════\n",
    "\n",
    "chebyshev_lobatto_nodes(n, a, b) = begin\n",
    "    xs = [cos(π*(n-1-i)/(n-1)) for i in 0:n-1]\n",
    "    return 0.5*(b-a).*(xs .+ 1) .+ a, xs\n",
    "end\n",
    "\n",
    "function calculate_option_price(\n",
    "    T,r,K,d, idx, σg,S0g, ρ, nPath, seed)\n",
    "\n",
    "    vols = σg[idx[1:2:end]]\n",
    "    S0s  = S0g[idx[2:2:end]]\n",
    "\n",
    "    np.random.seed(seed);  tf.random.set_seed(seed)\n",
    "\n",
    "    gbm = tff.models.MultivariateGeometricBrownianMotion(\n",
    "        dim=d, means=fill(r,d), volatilities=vols, corr_matrix=ρ)\n",
    "\n",
    "    paths = gbm.sample_paths(\n",
    "        times=[T], initial_state=S0s,\n",
    "        random_type=tff.math.random.RandomType.PSEUDO,\n",
    "        seed=seed, num_samples=nPath).numpy()\n",
    "\n",
    "    payoff = max.(minimum(paths[:,1,:], dims=2) .- K, 0.0)\n",
    "    disc   = exp(-r*T)\n",
    "    return disc*mean(payoff), disc*std(payoff)\n",
    "end\n",
    "\n",
    "\n",
    "function monte_carlo_error_stats(reps, T,r,K,d, σg,S0g, ρ, nPath, seed)\n",
    "    Random.seed!(seed)\n",
    "    errs = Float64[]\n",
    "    for _ in 1:reps\n",
    "        idx = [rand(1:length(σg)) for _ in 1:2d]\n",
    "        _, s = calculate_option_price(T,r,K,d, idx,σg,S0g,ρ, nPath, seed)\n",
    "        push!(errs, s/sqrt(nPath))\n",
    "    end\n",
    "    mean(errs), maximum(errs)\n",
    "end\n",
    "\n",
    "\n",
    "function tci_oneshot(f, dims, firstpivot, tol; max_threads=4)\n",
    "    BLAS.set_num_threads(max_threads)\n",
    "    # small local search\n",
    "    for _ in 1:100\n",
    "        p = optfirstpivot(f, dims, firstpivot)\n",
    "        firstpivot = abs(f(p)) > abs(f(firstpivot)) ? p : firstpivot\n",
    "    end\n",
    "    crossinterpolate2(\n",
    "        Float64, f, dims, [firstpivot];\n",
    "        tolerance=tol, maxiter=6, pivotsearch=:rook,\n",
    "        maxbonddim=50, verbosity=1, loginterval=1)\n",
    "end\n",
    "\n",
    "\n",
    "# ═══════════════════════════════════════════════════════════\n",
    "#  Main workflow\n",
    "# ═══════════════════════════════════════════════════════════\n",
    "\n",
    "function main()\n",
    "    # -------- parameters ----------\n",
    "    T,r,K     = 1.0, 0.01, 100.0\n",
    "    d         = 5\n",
    "    nPath     = 10^6          # ★ extremely small for quick run\n",
    "    seed      = 1234\n",
    "    num_grid  = 100\n",
    "    Random.seed!(seed)\n",
    "\n",
    "    # -------- grids ---------------\n",
    "    σg,_  = chebyshev_lobatto_nodes(num_grid, 0.15, 0.25)\n",
    "    S0g,_ = chebyshev_lobatto_nodes(num_grid, 90.0, 120.0)\n",
    "\n",
    "    # -------- correlation ---------\n",
    "    ρ = [ 1.0 0.303659 0.505532 0.719655 0.728832;\n",
    "          0.303659 1.0 0.401077 0.515272 0.178203;\n",
    "          0.505532 0.401077 1.0 0.132542 0.722767;\n",
    "          0.719655 0.515272 0.132542 1.0 0.394723;\n",
    "          0.728832 0.178203 0.722767 0.394723 1.0 ]\n",
    "\n",
    "    # -------- baseline ------------\n",
    "    base_idx = fill(num_grid, 2d)\n",
    "    μ, σ = calculate_option_price(T,r,K,d, base_idx,σg,S0g,ρ, nPath, seed)\n",
    "    @info \"Baseline PV = $μ,  abs.err = $(σ/sqrt(nPath))\"\n",
    "\n",
    "    μe, maxe = monte_carlo_error_stats(100,T,r,K,d,σg,S0g,ρ,nPath,seed)\n",
    "    @info \"MC abs.err  mean=$μe  max=$maxe\"\n",
    "\n",
    "    # -------- TCI -----------------\n",
    "    oracle(x) = Float64(calculate_option_price(\n",
    "                            T,r,K,d, x, σg,S0g,ρ, nPath, seed)[1])  # ← 常に Float64\n",
    "\n",
    "    dims, firstpivot = fill(num_grid, 2d), rand(1:num_grid, 2d)\n",
    "    tt0, tci_err     = tci_oneshot(\n",
    "                           CachedFunction{Float64}(oracle, dims),\n",
    "                           dims, firstpivot, 1e-3)\n",
    "    @info \"TCI finished  |err|∞ = $(last(tci_err))\"\n",
    "\n",
    "    # -------- gradient refit ------\n",
    "    φ          = CachedFunction{Float64}(oracle, dims)  # to get the dict\n",
    "    itpl_dict  = φ.itpl_point_dict\n",
    "    indexsets  = sort(collect(keys(itpl_dict)))\n",
    "    vals       = [itpl_dict[I] for I in indexsets]\n",
    "\n",
    "    tt0s  = TensorCrossInterpolation.TensorTrain(tt0)\n",
    "    ttfit = TensorCrossInterpolation.TensorTrainFit{Float64}(indexsets, vals, tt0s)\n",
    "    x0    = TensorCrossInterpolation.flatten(tt0s)\n",
    "\n",
    "    loss_and_grad(x) = begin\n",
    "        ℓ, (∇,) = Zygote.withgradient(ttfit, x)   # Zygote gives a tuple of 1 gradient\n",
    "        return ℓ, ∇\n",
    "    end\n",
    "\n",
    "    xopt, fvals, gnorms, nit, _ =\n",
    "        OptimKit.optimize(loss_and_grad, x0, OptimKit.LBFGS(maxiter=100, verbosity=1))\n",
    "\n",
    "    @info \"LBFGS done: iter=$nit  loss=$(last(fvals))  ‖∇‖=$(last(gnorms))\"\n",
    "\n",
    "    tt_opt = TensorCrossInterpolation.TensorTrain{Float64,3}(\n",
    "                 TensorCrossInterpolation.to_tensors(ttfit, xopt))\n",
    "\n",
    "    # -------- save ----------------\n",
    "    @save \"tt_tci_$(nPath)_raw.jld2\" tt0\n",
    "    @save \"tt_tci_$(nPath)_opt.jld2\" tt_opt\n",
    "end\n",
    "\n",
    "\n",
    "# ---------------------------------------------------------------------------\n",
    "main()\n",
    "# ---------------------------------------------------------------------------\n"
   ]
  },
  {
   "cell_type": "code",
   "execution_count": 7,
   "metadata": {},
   "outputs": [
    {
     "data": {
      "text/plain": [
       "calculate_option_price (generic function with 1 method)"
      ]
     },
     "metadata": {},
     "output_type": "display_data"
    }
   ],
   "source": [
    "# 満期・金利・行使価格など\n",
    "T = 1.0               # 満期\n",
    "r = 0.01              # 無リスク金利\n",
    "K = 100.0             # 行使価格\n",
    "d = 5                 # 原資産数\n",
    "nPath = 10^1           # モンテカルロパス数\n",
    "S0 = fill(100, d)     # 原資産の初期値ベクトル\n",
    "seed = 1234\n",
    "\n",
    "function chebyshev_lobatto_nodes(n::Int, a::Real, b::Real)\n",
    "    # [-1,1] のチェビシェフ-ロバット節点 → [a,b] へ写像\n",
    "    x_standard = [cos(π * (n - 1 - i) / (n - 1)) for i in 0:n-1]\n",
    "    x_scaled = 0.5 * (b - a) .* (x_standard .+ 1) .+ a\n",
    "    return x_scaled, x_standard\n",
    "end\n",
    "\n",
    "num_nodes = 100\n",
    "σs, _ = chebyshev_lobatto_nodes(num_nodes, 0.15, 0.25)    # ボラティリティグリッド\n",
    "stock0, _ = chebyshev_lobatto_nodes(num_nodes, 90, 120)   # 初期株価グリッド\n",
    "\n",
    "corrMat = [\n",
    "    1.0      0.303659  0.505532  0.719655  0.728832;\n",
    "    0.303659 1.0      0.401077  0.515272  0.178203;\n",
    "    0.505532 0.401077 1.0      0.132542  0.722767;\n",
    "    0.719655 0.515272 0.132542 1.0      0.394723;\n",
    "    0.728832 0.178203 0.722767 0.394723  1.0\n",
    "]\n",
    "\n",
    "function calculate_option_price(\n",
    "    T::Float64, r::Float64, K::Float64, d::Int, S0::Vector{Int}, stock0::Vector{Float64},\n",
    "    localindex_v::Vector{Int}, nPath::Int, σs::Vector{Float64}, corrMat\n",
    ")::Tuple{Float64, Float64}\n",
    "    # ボラリティ、初期株価の組み合わせを抽出\n",
    "    vols = [σs[i] for i in localindex_v[1:2:2*d]]\n",
    "    S0s = [stock0[i] for i in localindex_v[2:2:2*d]]\n",
    "\n",
    "    np.random.seed(seed)  # numpyのシードを固定\n",
    "    tf.random.set_seed(seed)  # tensorflowのシードを固定\n",
    "    \n",
    "    process = tff.models.MultivariateGeometricBrownianMotion(\n",
    "        dim=d,\n",
    "        means=fill(r, d),\n",
    "        volatilities=vols,\n",
    "        corr_matrix=corrMat)\n",
    "    \n",
    "    paths = process.sample_paths(\n",
    "        times=[T],\n",
    "        initial_state=S0s,\n",
    "        random_type=tff.math.random.RandomType.PSEUDO,\n",
    "        seed = seed,\n",
    "        num_samples=nPath\n",
    "    ).numpy()\n",
    "    \n",
    "    payoffs = max.(minimum(paths[:, 1, :], dims=2) .- K, 0.0)\n",
    "    mean_pv = exp(-r * T) * mean(payoffs)\n",
    "    std_pv = exp(-r * T) * std(payoffs)\n",
    "    return (mean_pv, std_pv)\n",
    "end\n"
   ]
  },
  {
   "cell_type": "code",
   "execution_count": 8,
   "metadata": {},
   "outputs": [
    {
     "data": {
      "text/plain": [
       "calc_itpl_point_errs (generic function with 1 method)"
      ]
     },
     "metadata": {},
     "output_type": "display_data"
    }
   ],
   "source": [
    "# struct to count number of function calls and sampling points\n",
    "mutable struct WrapFuncFloat <: Function\n",
    "    f::Function\n",
    "    #count::Int64\n",
    "    itpl_point_dict::Dict{Vector{Int}, Float64}\n",
    "    function WrapFuncFloat(f::Function)::WrapFuncFloat\n",
    "        new(f, Dict{Vector{Int}, Float64}())\n",
    "    end\n",
    "end\n",
    "\n",
    "\n",
    "\n",
    "function (w::WrapFuncFloat)(bins::Vector{Int})::Float64\n",
    "    if !haskey(w.itpl_point_dict, bins)\n",
    "        # FIXED: use deepcopy\n",
    "        w.itpl_point_dict[deepcopy(bins)] = w.f(bins)\n",
    "    end\n",
    "    return w.itpl_point_dict[bins]\n",
    "end\n",
    ";\n",
    "\n",
    "function mps2multivec(mps::TCI.TensorTrain)::Vector{Array{Float64, 3}}\n",
    "    links = linkinds(mps)\n",
    "    sites = siteinds(mps)\n",
    "    N = length(mps)\n",
    "    res = []\n",
    "    for i in 1:N\n",
    "        if i == 1\n",
    "            push!(res, reshape(array(mps[1], sites[1], links[1]), 1, ITensors.dim(sites[1]), ITensors.dim(links[1])))\n",
    "        elseif i == N\n",
    "            push!(res, reshape(array(mps[i], links[end], sites[i]), ITensors.dim(links[end]), ITensors.dim(sites[i]), 1))\n",
    "        else\n",
    "            push!(res, array(mps[i], links[i-1], sites[i], links[i]))\n",
    "        end\n",
    "    end\n",
    "    return res\n",
    "end\n",
    "\n",
    "function calc_itpl_point_errs(itpl_point_dict, fdata)\n",
    "    res = 0\n",
    "    for (key, value) in itpl_point_dict\n",
    "        idx = Q.quantics_to_index(key)[1]\n",
    "        res += abs(fdata[idx] - value)\n",
    "    end\n",
    "    return res\n",
    "end\n"
   ]
  },
  {
   "cell_type": "code",
   "execution_count": 9,
   "metadata": {},
   "outputs": [
    {
     "name": "stdout",
     "output_type": "stream",
     "text": [
      "Present Value: 6.16224477441282\n",
      "Standard Deviation: 9.312806162122191\n",
      "Abs.Err.: 2.944967887995743\n"
     ]
    }
   ],
   "source": [
    "# 各資産ともグリッドの最大値を使う場合\n",
    "localindex_v = [100 for _ in 1:2d]\n",
    "\n",
    "mean_pv, std_pv = calculate_option_price(T, r, K, d, S0, stock0, localindex_v, nPath, σs, corrMat)\n",
    "println(\"Present Value: \", mean_pv)\n",
    "println(\"Standard Deviation: \", std_pv)\n",
    "println(\"Abs.Err.: \", std_pv / sqrt(nPath))\n"
   ]
  },
  {
   "cell_type": "code",
   "execution_count": 10,
   "metadata": {},
   "outputs": [
    {
     "name": "stdout",
     "output_type": "stream",
     "text": [
      "Mean Abs.Err.: 1.0704463332803593\n",
      "Max  Abs.Err.: 2.680704658749252\n"
     ]
    }
   ],
   "source": [
    "using Random\n",
    "\n",
    "d = 5\n",
    "num_grid = 100\n",
    "\n",
    "# 誤差を記録する配列\n",
    "abs_errors = Float64[]\n",
    "\n",
    "Random.seed!(seed)\n",
    "for _ in 1:100\n",
    "    # [σ1, S0_1, σ2, S0_2, ..., σd, S0_d] をランダムに生成\n",
    "    localindex_v = [rand(1:num_grid) for _ in 1:2d]\n",
    "    mean_pv, std_pv = calculate_option_price(T, r, K, d, S0, stock0, localindex_v, nPath, σs, corrMat)\n",
    "    abs_err = std_pv / sqrt(nPath)\n",
    "    push!(abs_errors, abs_err)\n",
    "end\n",
    "\n",
    "println(\"Mean Abs.Err.: \", mean(abs_errors))\n",
    "println(\"Max  Abs.Err.: \", maximum(abs_errors))\n"
   ]
  },
  {
   "cell_type": "code",
   "execution_count": 18,
   "metadata": {},
   "outputs": [
    {
     "data": {
      "text/plain": [
       "(::TensorCrossInterpolation.CachedFunction{Float64, UInt128}) (generic function with 3 methods)"
      ]
     },
     "metadata": {},
     "output_type": "display_data"
    }
   ],
   "source": [
    "abo_(localindex_v) = calculate_option_price(T, r, K, d, S0, stock0, localindex_v, nPath, σs, corrMat)[1]\n",
    "localdims_v = fill(num_nodes, 2d)\n",
    "Random.seed!(1234)\n",
    "firstpivot_v = rand(1:num_nodes, 2d)\n",
    "abo = WrapFuncFloat(abo_) # \n",
    "phi = TCI.CachedFunction{Float64}(abo, localdims_v)\n",
    "\n",
    "phi = TCI.CachedFunction{Float64}(abo, localdims_v)\n",
    "\n",
    "\n"
   ]
  },
  {
   "cell_type": "code",
   "execution_count": 19,
   "metadata": {},
   "outputs": [
    {
     "data": {
      "text/plain": [
       "tci_oneshot (generic function with 1 method)"
      ]
     },
     "metadata": {},
     "output_type": "display_data"
    }
   ],
   "source": [
    "# TCIワンショット補間関数\n",
    "function tci_oneshot(func, d, localdims, firstpivot, tol)\n",
    "    BLAS.set_num_threads(4)\n",
    "    for _ in 1:100\n",
    "        p = TCI.optfirstpivot(func, localdims, firstpivot)\n",
    "        if abs(func(p)) > abs(func(firstpivot))\n",
    "            firstpivot = p\n",
    "        end\n",
    "    end\n",
    "    qtt, ranks, errors = TCI.crossinterpolate2(Float64, func, localdims, [firstpivot],\n",
    "                                                  tolerance=tol, maxiter=1, verbosity=1,\n",
    "                                                  loginterval=1, pivotsearch=:rook, maxbonddim=1)\n",
    "    return qtt, errors\n",
    "end"
   ]
  },
  {
   "cell_type": "code",
   "execution_count": 20,
   "metadata": {},
   "outputs": [
    {
     "name": "stdout",
     "output_type": "stream",
     "text": [
      "iteration = 1, rank = 1, error= 0.0, maxsamplevalue= 9.316950965038105, nglobalpivot=0\n"
     ]
    },
    {
     "data": {
      "text/plain": [
       "152.138707792"
      ]
     },
     "metadata": {},
     "output_type": "display_data"
    }
   ],
   "source": [
    "tol_mc = 2.0\n",
    "tol = tol_mc\n",
    "\n",
    "tci_time = @elapsed begin\n",
    "    tt_tci, errors_asianbarrier = tci_oneshot(phi, d, localdims_v, firstpivot_v, tol)\n",
    "end"
   ]
  },
  {
   "cell_type": "code",
   "execution_count": 21,
   "metadata": {},
   "outputs": [
    {
     "data": {
      "text/plain": [
       "(::TensorCrossInterpolation.TensorCI2{Float64}) (generic function with 1 method)"
      ]
     },
     "metadata": {},
     "output_type": "display_data"
    }
   ],
   "source": [
    "tt_tci ###"
   ]
  },
  {
   "cell_type": "code",
   "execution_count": null,
   "metadata": {},
   "outputs": [],
   "source": [
    "tt0 = TCI.TensorTrain(tt_tci)\n",
    "itpl_point_dict = abo.itpl_point_dict\n",
    "indexsets = sort(collect(keys(itpl_point_dict)))\n",
    "vals = [itpl_point_dict[i] for i in indexsets]\n",
    "fit_itr = 100 #\n",
    "ttfit = TCI.TensorTrainFit{Float64}(indexsets, vals, tt0)\n",
    "x0::Vector{Float64} = TCI.flatten(tt0)\n",
    "\n",
    "using Zygote\n",
    "using OptimKit\n",
    "#using OptimKit\n",
    "function loss(x) \n",
    "    ttfit(x)\n",
    "end\n",
    "optimizer = LBFGS(; maxiter=fit_itr, verbosity=1)\n",
    "function loss_and_grad(x)\n",
    "    y, (∇,) = withgradient(loss, x)\n",
    "    return y, ∇\n",
    "end\n",
    "xopt, fs, gs, niter, normgradhistory = optimize(loss_and_grad, x0, optimizer)\n",
    ";\n",
    "\n",
    "ttopt = TCI.TensorTrain{Float64, 3}(TCI.to_tensors(ttfit, xopt))\n",
    "tt_tci = ttopt"
   ]
  },
  {
   "cell_type": "code",
   "execution_count": null,
   "metadata": {},
   "outputs": [
    {
     "ename": "UndefVarError",
     "evalue": "UndefVarError: `tt_tci` not defined in `Main`\nSuggestion: check for spelling errors or missing imports.",
     "output_type": "error",
     "traceback": [
      "UndefVarError: `tt_tci` not defined in `Main`\n",
      "Suggestion: check for spelling errors or missing imports.\n",
      "\n",
      "Stacktrace:\n",
      " [1] macro expansion\n",
      "   @ ~/.julia/packages/JLD2/NKGUi/src/loadsave.jl:72 [inlined]\n",
      " [2] top-level scope\n",
      "   @ ~/Documents/Research/post-doc/Tensor_FixedSeedMC/notebook/multi-asset/Europian_min_op/random_corr/all_gr100/10^1/make_tt/jl_notebook_cell_df34fa98e69747e1a8f8a730347b8e2f_X10sZmlsZQ==.jl:1"
     ]
    }
   ],
   "source": [
    "JLD2.@save \"tt_tci_opt_$nPath\" tt_tci"
   ]
  },
  {
   "cell_type": "code",
   "execution_count": 16,
   "metadata": {},
   "outputs": [
    {
     "ename": "KeyError",
     "evalue": "KeyError: key \"tt_tci\" not found",
     "output_type": "error",
     "traceback": [
      "KeyError: key \"tt_tci\" not found\n",
      "\n",
      "Stacktrace:\n",
      " [1] getindex(g::JLD2.Group{JLD2.JLDFile{JLD2.MmapIO}}, name::String)\n",
      "   @ JLD2 ~/.julia/packages/JLD2/NKGUi/src/groups.jl:96\n",
      " [2] read\n",
      "   @ ~/.julia/packages/JLD2/NKGUi/src/JLD2.jl:348 [inlined]\n",
      " [3] (::var\"#31#32\")(f::JLD2.JLDFile{JLD2.MmapIO})\n",
      "   @ Main ~/.julia/packages/JLD2/NKGUi/src/loadsave.jl:153\n",
      " [4] jldopen(f::Function, args::String; kws::@Kwargs{})\n",
      "   @ JLD2 ~/.julia/packages/JLD2/NKGUi/src/loadsave.jl:4\n",
      " [5] jldopen(f::Function, args::String)\n",
      "   @ JLD2 ~/.julia/packages/JLD2/NKGUi/src/loadsave.jl:1\n",
      " [6] macro expansion\n",
      "   @ ~/.julia/packages/JLD2/NKGUi/src/loadsave.jl:152 [inlined]\n",
      " [7] top-level scope\n",
      "   @ ~/Documents/Research/post-doc/Tensor_FixedSeedMC/notebook/multi-asset/Europian_min_op/random_corr/all_gr100/10^1/make_tt/jl_notebook_cell_df34fa98e69747e1a8f8a730347b8e2f_X11sZmlsZQ==.jl:1"
     ]
    }
   ],
   "source": [
    "JLD2.@load \"tt_tci_$nPath\" tt_tci"
   ]
  },
  {
   "cell_type": "code",
   "execution_count": 17,
   "metadata": {},
   "outputs": [],
   "source": []
  }
 ],
 "metadata": {
  "kernelspec": {
   "display_name": "Julia 1.11.2",
   "language": "julia",
   "name": "julia-1.11"
  },
  "language_info": {
   "file_extension": ".jl",
   "mimetype": "application/julia",
   "name": "julia",
   "version": "1.11.2"
  }
 },
 "nbformat": 4,
 "nbformat_minor": 2
}
