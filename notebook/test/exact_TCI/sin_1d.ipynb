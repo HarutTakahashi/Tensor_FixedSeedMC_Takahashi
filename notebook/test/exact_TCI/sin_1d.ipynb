{
 "cells": [
  {
   "cell_type": "code",
   "execution_count": 2,
   "metadata": {},
   "outputs": [],
   "source": [
    "##########################################################\n",
    "# パッケージの読み込みとエイリアスの設定\n",
    "##########################################################\n",
    "using Revise, LinearAlgebra, LaTeXStrings, Plots, CSV, DataFrames, JLD2, Random, Statistics, Distributions\n",
    "using TensorCrossInterpolation\n",
    "import TensorCrossInterpolation as TCI\n",
    "using Tensor_FixedSeedMC\n",
    "import Tensor_FixedSeedMC as TCIMC"
   ]
  },
  {
   "cell_type": "code",
   "execution_count": 3,
   "metadata": {},
   "outputs": [
    {
     "data": {
      "text/plain": [
       "33-element Vector{Float64}:\n",
       " -0.9092974268256817\n",
       " -0.9132629192266357\n",
       " -0.9246144278719843\n",
       " -0.9417215937293848\n",
       " -0.9618903686220686\n",
       " -0.9814243775069309\n",
       " -0.9957578459010482\n",
       " -0.9996931049789023\n",
       " -0.9877659459927355\n",
       " -0.954740635924686\n",
       " -0.8962052244279891\n",
       " -0.8092025046847494\n",
       " -0.6928016016971985\n",
       "  ⋮\n",
       "  0.8092025046847495\n",
       "  0.8962052244279893\n",
       "  0.954740635924686\n",
       "  0.9877659459927356\n",
       "  0.9996931049789023\n",
       "  0.9957578459010483\n",
       "  0.9814243775069309\n",
       "  0.9618903686220686\n",
       "  0.9417215937293848\n",
       "  0.9246144278719843\n",
       "  0.9132629192266356\n",
       "  0.9092974268256817"
      ]
     },
     "execution_count": 3,
     "metadata": {},
     "output_type": "execute_result"
    }
   ],
   "source": [
    "n = 32\n",
    "a_ = -2.0\n",
    "b_ = 2.0\n",
    "xs = TCIMC.chebyshev_lobatto_nodes(a_, b_, n) # 1) ロバット点（昇順）\n",
    "g = x -> sin(x)\n",
    "y = g.(xs)                                 # 2) y = f.(xs)"
   ]
  },
  {
   "cell_type": "code",
   "execution_count": 4,
   "metadata": {},
   "outputs": [
    {
     "data": {
      "text/plain": [
       "33-element Vector{Float64}:\n",
       " -8.326672684688674e-17\n",
       "  1.1534496155137466\n",
       "  2.7755575615628914e-17\n",
       " -0.2578864989488043\n",
       "  1.3877787807814457e-17\n",
       "  0.014079259511743408\n",
       "  3.122502256758253e-16\n",
       " -0.00034988814973718405\n",
       "  3.7816971776294395e-16\n",
       "  4.984686869876492e-6\n",
       "  1.0755285551056204e-16\n",
       " -4.6085695246111946e-8\n",
       "  3.0531133177191805e-16\n",
       "  ⋮\n",
       " -5.516420653606247e-16\n",
       " -4.475586568020162e-16\n",
       "  1.6826817716975029e-15\n",
       " -1.124100812432971e-15\n",
       "  6.522560269672795e-16\n",
       "  3.5735303605122226e-16\n",
       " -3.8163916471489756e-16\n",
       "  7.216449660063518e-16\n",
       " -3.2959746043559335e-16\n",
       "  1.3530843112619095e-15\n",
       "  5.30825383648903e-16\n",
       "  2.7755575615628914e-17"
      ]
     },
     "execution_count": 4,
     "metadata": {},
     "output_type": "execute_result"
    }
   ],
   "source": [
    "# 3) 係数 a を行列掛け算で取得\n",
    "A = TCIMC.chebyshev_coeff_matrix_from_lobatto_sorted(n)\n",
    "a = A * y"
   ]
  },
  {
   "cell_type": "code",
   "execution_count": 5,
   "metadata": {},
   "outputs": [
    {
     "data": {
      "text/plain": [
       "100-element Vector{Float64}:\n",
       " -0.9092974268256817\n",
       " -0.9253647591085917\n",
       " -0.9399216514301312\n",
       " -0.952944343093062\n",
       " -0.9644115776212773\n",
       " -0.9743046374559903\n",
       " -0.9826073745077393\n",
       " -0.9893062365143401\n",
       " -0.9943902891617602\n",
       " -0.9978512339318114\n",
       " -0.9996834216475249\n",
       " -0.9998838616941024\n",
       " -0.9984522269003895\n",
       "  ⋮\n",
       "  0.9998838616941024\n",
       "  0.9996834216475249\n",
       "  0.9978512339318114\n",
       "  0.9943902891617602\n",
       "  0.9893062365143401\n",
       "  0.9826073745077393\n",
       "  0.9743046374559903\n",
       "  0.9644115776212773\n",
       "  0.952944343093062\n",
       "  0.9399216514301312\n",
       "  0.9253647591085917\n",
       "  0.9092974268256817"
      ]
     },
     "execution_count": 5,
     "metadata": {},
     "output_type": "execute_result"
    }
   ],
   "source": [
    "xs_ = collect(range(a_, stop=b_, length=100))\n",
    "\n",
    "# --- 方法1: 事前確保して添字で代入 ---\n",
    "y_hat = zeros(length(xs_))\n",
    "@inbounds for (i, x) in enumerate(xs_)\n",
    "    φ = TCIMC.cheb_basis_vector_weighted(a_, b_, x, n)\n",
    "    y_hat[i] = dot(φ, a)               # 係数との内積で評価\n",
    "end\n",
    "\n",
    "# 参考: 真値と比較（例: f(x)=exp(x) なら）\n",
    "y_true = g.(xs_)\n"
   ]
  },
  {
   "cell_type": "code",
   "execution_count": 6,
   "metadata": {},
   "outputs": [
    {
     "name": "stdout",
     "output_type": "stream",
     "text": [
      "maximum(y_true .- y_hat) = 7.105427357601002e-15\n"
     ]
    },
    {
     "data": {
      "text/plain": [
       "7.105427357601002e-15"
      ]
     },
     "execution_count": 6,
     "metadata": {},
     "output_type": "execute_result"
    }
   ],
   "source": [
    "@show maximum(y_true .- y_hat)"
   ]
  },
  {
   "cell_type": "code",
   "execution_count": 10,
   "metadata": {},
   "outputs": [
    {
     "name": "stdout",
     "output_type": "stream",
     "text": [
      "maximum(y_true .- y_hat) = 3.5416114485542494e-14\n"
     ]
    },
    {
     "data": {
      "text/plain": [
       "3.5416114485542494e-14"
      ]
     },
     "execution_count": 10,
     "metadata": {},
     "output_type": "execute_result"
    }
   ],
   "source": [
    "#φp = cheb_basis_vector_weighted_derivative_noU(x, n)\n",
    "# 係数ベクトル a があれば、p'(x) ≈ dot(φp, a)\n",
    "\n",
    "xs_ = collect(range(-1.0, stop=1.0, length=100))\n",
    "\n",
    "# --- 方法1: 事前確保して添字で代入 ---\n",
    "y_hat = zeros(length(xs_))\n",
    "@inbounds for (i, x) in enumerate(xs_)\n",
    "    φp = TCIMC.cheb_basis_vector_weighted_derivative(a_, b_, x, n)\n",
    "    y_hat[i] = dot(φp, a)               # 係数との内積で評価\n",
    "end\n",
    "\n",
    "# 参考: 真値と比較（例: f(x)=exp(x) なら）\n",
    "y_true = cos.(xs_)\n",
    "@show maximum(y_true .- y_hat)"
   ]
  },
  {
   "cell_type": "code",
   "execution_count": 11,
   "metadata": {},
   "outputs": [
    {
     "data": {
      "text/plain": [
       "d1 (generic function with 2 methods)"
      ]
     },
     "execution_count": 11,
     "metadata": {},
     "output_type": "execute_result"
    }
   ],
   "source": [
    "d1(S0, K::Float64, σ::Float64, r::Float64,  t::Float64) = (log(S0/K) + (r + σ^2/2) * (1.0 - t)) / (σ * (1.0 - t)^2)\n",
    "d1(S0) = (log(S0/100.0) + (0.05 + 0.2^2/2) * (1.0 - 0.0)) / (0.2 * (1.0 - 0.0)^2)"
   ]
  },
  {
   "cell_type": "code",
   "execution_count": 16,
   "metadata": {},
   "outputs": [
    {
     "name": "stdout",
     "output_type": "stream",
     "text": [
      "maximum(op_true .- op_hat) = 7.882583474838611e-15\n"
     ]
    },
    {
     "data": {
      "text/plain": [
       "7.882583474838611e-15"
      ]
     },
     "execution_count": 16,
     "metadata": {},
     "output_type": "execute_result"
    }
   ],
   "source": [
    "S0s_equiv = collect(range(90, stop=120.0, length=100))\n",
    "n = 100\n",
    "S0s_lobatto = TCIMC.chebyshev_lobatto_nodes(90.0, 120.0, n)\n",
    "y_ = d1.(S0s_lobatto)        \n",
    "A = TCIMC.chebyshev_coeff_matrix_from_lobatto_sorted(n)\n",
    "a_ = A * y_\n",
    "# --- 方法1: 事前確保して添字で代入 ---\n",
    "op_hat = zeros(length(S0s_equiv))\n",
    "@inbounds for (i, x) in enumerate(S0s_equiv)\n",
    "    #φp = TCIMC.cheb_basis_vector_weighted_derivative(a_, b_, x, n)\n",
    "    φ = TCIMC.cheb_basis_vector_weighted(90, 120, x, n)\n",
    "    op_hat[i] = dot(φ, a_)               # 係数との内積で評価\n",
    "end\n",
    "\n",
    "# 参考: 真値と比較（例: f(x)=exp(x) なら）\n",
    "op_true = d1.(S0s_equiv)\n",
    "@show maximum(op_true .- op_hat)"
   ]
  },
  {
   "cell_type": "code",
   "execution_count": null,
   "metadata": {},
   "outputs": [],
   "source": []
  }
 ],
 "metadata": {
  "kernelspec": {
   "display_name": "Julia 1.11.6",
   "language": "julia",
   "name": "julia-1.11"
  },
  "language_info": {
   "file_extension": ".jl",
   "mimetype": "application/julia",
   "name": "julia",
   "version": "1.11.6"
  }
 },
 "nbformat": 4,
 "nbformat_minor": 2
}
