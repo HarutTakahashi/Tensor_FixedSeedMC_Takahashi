{
 "cells": [
  {
   "cell_type": "code",
   "execution_count": 1,
   "metadata": {},
   "outputs": [],
   "source": [
    "using Revise\n",
    "using LinearAlgebra"
   ]
  },
  {
   "cell_type": "code",
   "execution_count": 2,
   "metadata": {},
   "outputs": [],
   "source": [
    "# parameters\n",
    "R = 6\n",
    "N = 2^R\n",
    "grid_min = -N/2 # minimum of the grid\n",
    "grid_max = N/2 # maximum of the grid\n",
    "xs = collect(Float64, grid_min:1:grid_max-1)\n",
    ";"
   ]
  },
  {
   "cell_type": "markdown",
   "metadata": {},
   "source": [
    "# (20)式:\n",
    "\n",
    "$$\n",
    "\\left.\\varphi_T(\\vec{z})=\\exp \\left[i \\sum_j^d z_j \\mu_j-\\frac{1}{2} \\sum_j^d \\sum_k^d \\sigma_j \\sigma_k z_j z_k \\Sigma_{j k}\\right)\\right]\n",
    "$$\n",
    "where\n",
    "$$\n",
    "\\mu_j=x_0^j+r_j T-\\frac{1}{2} \\sigma_j^2 \\Sigma_{j j} T\n",
    "$$"
   ]
  },
  {
   "cell_type": "code",
   "execution_count": 3,
   "metadata": {},
   "outputs": [
    {
     "data": {
      "text/plain": [
       "-1.1481468691523573e10 - 1.056829417713916e10im"
      ]
     },
     "metadata": {},
     "output_type": "display_data"
    }
   ],
   "source": [
    "function phi_t_1d(j)\n",
    "    η = 0.5\n",
    "    T = 1.0\n",
    "    r = 0.01\n",
    "    σ = 0.2\n",
    "    S0 = 100.0\n",
    "    x0 = log(S0)\n",
    "    d = length(j)\n",
    "    α = 5.0 / d\n",
    "    β = 0.5\n",
    "    Σ_diag = 1.0\n",
    "    Σ_non_diag = β / (1 + β)\n",
    "    μ = x0 + r * T - 0.5 * σ^2 * Σ_diag * T\n",
    "\n",
    "    phi1 = 0.0\n",
    "    for i in 1:length(j)\n",
    "        phi1 += ( - η * j[i] - im * α ) * μ\n",
    "    end\n",
    "\n",
    "    phi2_diag = 0.0\n",
    "    for i in 1:length(j)\n",
    "        phi2_diag += 0.5 * σ^2 * ( - η * j[i] - im * α )^2 * Σ_diag\n",
    "    end\n",
    "\n",
    "    phi2_non_diag = 0.0\n",
    "    for i in 1:length(j), k in 1:length(j)\n",
    "        if i != k\n",
    "            phi2_non_diag += 0.5 * σ^2 * ( - η * j[i] - im * α ) * ( - η * j[k] - im * α ) * Σ_non_diag\n",
    "        end\n",
    "    end\n",
    "\n",
    "    return exp( im * phi1 - (phi2_diag + phi2_non_diag) )\n",
    "end\n",
    "\n",
    "phi_t_1d(1.0)"
   ]
  },
  {
   "cell_type": "markdown",
   "metadata": {},
   "source": [
    "# (22)式:\n",
    "\n",
    "$$\n",
    "\\hat{v}_{\\min }(\\vec{z})=-\\frac{K^{1+i \\sum_{j=1}^d z_j}}{(-1)^d\\left(1+i \\sum_{j=1}^d z_j\\right) \\prod_{j=1}^d (i z_j)}\n",
    "$$"
   ]
  },
  {
   "cell_type": "code",
   "execution_count": 4,
   "metadata": {},
   "outputs": [
    {
     "data": {
      "text/plain": [
       "-4.0322659783865716e-10 + 2.8482449009118854e-10im"
      ]
     },
     "metadata": {},
     "output_type": "display_data"
    }
   ],
   "source": [
    "function v_min_1d(j)\n",
    "    η = 0.5\n",
    "    K = 100.0\n",
    "    d = length(j)\n",
    "    α = 5.0 / d\n",
    "\n",
    "    op_seki = 1.0\n",
    "    for i in 1:length(j)\n",
    "        op_seki *= ( im * ( η * j[i] + im * α ) )\n",
    "    end\n",
    "\n",
    "    op_wa = 0.0\n",
    "    for i in 1:length(j)\n",
    "        op_wa += ( im * ( η * j[i] + im * α ) )\n",
    "    end\n",
    "\n",
    "    result = - ( K ^ ( 1 + op_wa ) ) / ( (-1)^d * ( 1 + op_wa) * op_seki )\n",
    "    return result\n",
    "end\n",
    "\n",
    "v_min_1d(1.0)"
   ]
  },
  {
   "cell_type": "markdown",
   "metadata": {},
   "source": [
    "# (25)式の内積の計算\n",
    "\n",
    "$$\n",
    "V\\left(t, K \\mid S_0\\right)=\\frac{e^{-r(T-t)}}{2 \\pi}\\left\\langle\\hat{v}_{\\min } \\mid \\varphi_T\\right\\rangle\n",
    "$$"
   ]
  },
  {
   "cell_type": "code",
   "execution_count": 5,
   "metadata": {},
   "outputs": [
    {
     "data": {
      "text/plain": [
       "107.02763599855965 + 0.0014631648614676254im"
      ]
     },
     "metadata": {},
     "output_type": "display_data"
    }
   ],
   "source": [
    "inner_1d = 0.0\n",
    "for x in xs\n",
    "    inner_1d += phi_t_1d(x)*v_min_1d(x)\n",
    "end\n",
    "inner_1d"
   ]
  },
  {
   "cell_type": "code",
   "execution_count": 6,
   "metadata": {},
   "outputs": [
    {
     "data": {
      "text/plain": [
       "8.432243205198837 + 0.00011527641291976327im"
      ]
     },
     "metadata": {},
     "output_type": "display_data"
    }
   ],
   "source": [
    "T = 1 # 取引の日。1年後\n",
    "r = 0.01 # 金利\n",
    "t = 0.0 # 初期時刻\n",
    "d = 1\n",
    "η = 0.5\n",
    "\n",
    "result = η * exp( - r * ( T - t ) ) * inner_1d / ( 2 * π )"
   ]
  },
  {
   "cell_type": "code",
   "execution_count": 7,
   "metadata": {},
   "outputs": [
    {
     "data": {
      "text/plain": [
       "1.0002457182550013 + 1.3674266222266742e-5im"
      ]
     },
     "metadata": {},
     "output_type": "display_data"
    }
   ],
   "source": [
    "# モンテカルロと比較\n",
    "monte_100 = 8.430171758105075\n",
    "ratio = result/monte_100"
   ]
  }
 ],
 "metadata": {
  "kernelspec": {
   "display_name": "Julia 1.11.6",
   "language": "julia",
   "name": "julia-1.11"
  },
  "language_info": {
   "file_extension": ".jl",
   "mimetype": "application/julia",
   "name": "julia",
   "version": "1.11.6"
  }
 },
 "nbformat": 4,
 "nbformat_minor": 2
}
